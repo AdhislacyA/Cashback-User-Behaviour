{
 "cells": [
  {
   "cell_type": "markdown",
   "metadata": {
    "application/vnd.databricks.v1+cell": {
     "cellMetadata": {},
     "inputWidgets": {},
     "nuid": "9db8b876-905b-4daa-aa67-2ae8f9d79f1c",
     "showTitle": false,
     "tableResultSettingsMap": {},
     "title": ""
    }
   },
   "source": [
    "### Load Databricks using API\n",
    "### 1. Install libraries\n"
   ]
  },
  {
   "cell_type": "code",
   "execution_count": 0,
   "metadata": {
    "application/vnd.databricks.v1+cell": {
     "cellMetadata": {
      "byteLimit": 2048000,
      "rowLimit": 10000
     },
     "inputWidgets": {},
     "nuid": "71afd604-8586-4dea-bd50-c250c9864fe2",
     "showTitle": false,
     "tableResultSettingsMap": {},
     "title": ""
    }
   },
   "outputs": [],
   "source": [
    "%pip install boxsdk pandas pyspark"
   ]
  },
  {
   "cell_type": "markdown",
   "metadata": {
    "application/vnd.databricks.v1+cell": {
     "cellMetadata": {},
     "inputWidgets": {},
     "nuid": "fbf68749-1e4b-4eba-a6cf-e10a019265fc",
     "showTitle": false,
     "tableResultSettingsMap": {},
     "title": ""
    }
   },
   "source": [
    "### Step 1: Upload CSV files to Databricks"
   ]
  },
  {
   "cell_type": "code",
   "execution_count": 0,
   "metadata": {
    "application/vnd.databricks.v1+cell": {
     "cellMetadata": {
      "byteLimit": 2048000,
      "rowLimit": 10000
     },
     "inputWidgets": {},
     "nuid": "8bc4c401-8062-4d29-ab9f-ad707b24135d",
     "showTitle": false,
     "tableResultSettingsMap": {},
     "title": ""
    }
   },
   "outputs": [
    {
     "output_type": "display_data",
     "data": {
      "text/html": [
       "<style scoped>\n",
       "  .table-result-container {\n",
       "    max-height: 300px;\n",
       "    overflow: auto;\n",
       "  }\n",
       "  table, th, td {\n",
       "    border: 1px solid black;\n",
       "    border-collapse: collapse;\n",
       "  }\n",
       "  th, td {\n",
       "    padding: 5px;\n",
       "  }\n",
       "  th {\n",
       "    text-align: left;\n",
       "  }\n",
       "</style><div class='table-result-container'><table class='table-result'><thead style='background-color: white'><tr><th>path</th><th>name</th><th>size</th><th>modificationTime</th></tr></thead><tbody><tr><td>dbfs:/FileStore/tables/engagements_csv.zip</td><td>engagements_csv.zip</td><td>509212192</td><td>1741018054000</td></tr><tr><td>dbfs:/FileStore/tables/offers-1.csv</td><td>offers-1.csv</td><td>1761202</td><td>1741015687000</td></tr><tr><td>dbfs:/FileStore/tables/offers.csv</td><td>offers.csv</td><td>1761202</td><td>1741014507000</td></tr><tr><td>dbfs:/FileStore/tables/shopper_offers-1.csv</td><td>shopper_offers-1.csv</td><td>28568462</td><td>1741015732000</td></tr><tr><td>dbfs:/FileStore/tables/shopper_offers.csv</td><td>shopper_offers.csv</td><td>28568462</td><td>1741014524000</td></tr><tr><td>dbfs:/FileStore/tables/shoppers-1.csv</td><td>shoppers-1.csv</td><td>867248</td><td>1741015750000</td></tr><tr><td>dbfs:/FileStore/tables/shoppers.csv</td><td>shoppers.csv</td><td>867248</td><td>1741014509000</td></tr></tbody></table></div>"
      ]
     },
     "metadata": {
      "application/vnd.databricks.v1+output": {
       "addedWidgets": {},
       "aggData": [],
       "aggError": "",
       "aggOverflow": false,
       "aggSchema": [],
       "aggSeriesLimitReached": false,
       "aggType": "",
       "arguments": {},
       "columnCustomDisplayInfos": {},
       "data": [
        [
         "dbfs:/FileStore/tables/engagements_csv.zip",
         "engagements_csv.zip",
         509212192,
         1741018054000
        ],
        [
         "dbfs:/FileStore/tables/offers-1.csv",
         "offers-1.csv",
         1761202,
         1741015687000
        ],
        [
         "dbfs:/FileStore/tables/offers.csv",
         "offers.csv",
         1761202,
         1741014507000
        ],
        [
         "dbfs:/FileStore/tables/shopper_offers-1.csv",
         "shopper_offers-1.csv",
         28568462,
         1741015732000
        ],
        [
         "dbfs:/FileStore/tables/shopper_offers.csv",
         "shopper_offers.csv",
         28568462,
         1741014524000
        ],
        [
         "dbfs:/FileStore/tables/shoppers-1.csv",
         "shoppers-1.csv",
         867248,
         1741015750000
        ],
        [
         "dbfs:/FileStore/tables/shoppers.csv",
         "shoppers.csv",
         867248,
         1741014509000
        ]
       ],
       "datasetInfos": [],
       "dbfsResultPath": null,
       "isJsonSchema": true,
       "metadata": {},
       "overflow": false,
       "plotOptions": {
        "customPlotOptions": {},
        "displayType": "table",
        "pivotAggregation": null,
        "pivotColumns": null,
        "xColumns": null,
        "yColumns": null
       },
       "removedWidgets": [],
       "schema": [
        {
         "metadata": "{}",
         "name": "path",
         "type": "\"string\""
        },
        {
         "metadata": "{}",
         "name": "name",
         "type": "\"string\""
        },
        {
         "metadata": "{}",
         "name": "size",
         "type": "\"long\""
        },
        {
         "metadata": "{}",
         "name": "modificationTime",
         "type": "\"long\""
        }
       ],
       "type": "table"
      }
     },
     "output_type": "display_data"
    }
   ],
   "source": [
    "display(dbutils.fs.ls(\"dbfs:/FileStore/tables/\"))\n"
   ]
  },
  {
   "cell_type": "code",
   "execution_count": 0,
   "metadata": {
    "application/vnd.databricks.v1+cell": {
     "cellMetadata": {
      "byteLimit": 2048000,
      "rowLimit": 10000
     },
     "inputWidgets": {},
     "nuid": "cc9b2fc7-def4-41f2-8176-0f1b6fb1b29b",
     "showTitle": false,
     "tableResultSettingsMap": {},
     "title": ""
    }
   },
   "outputs": [
    {
     "output_type": "stream",
     "name": "stdout",
     "output_type": "stream",
     "text": [
      "root\n |-- PK\u0003\u0004\u0014\u0000\\b\u0000\\b\u0000�zXY\u0000\u0000\u0000\u0000\u0000\u0000\u0000\u0000�ը\\\u000F\u0000 \u0000engagements.csvUT: string (nullable = true)\n\n+--------+--------------+-----------+\n|database|     tableName|isTemporary|\n+--------+--------------+-----------+\n|        |   engagements|       true|\n|        |        offers|       true|\n|        |shopper_offers|       true|\n|        |      shoppers|       true|\n+--------+--------------+-----------+\n\n"
     ]
    }
   ],
   "source": [
    "from pyspark.sql import SparkSession\n",
    "\n",
    "# Initial Spark Session\n",
    "spark = SparkSession.builder.appName (\"CashbackUserBehaviour\").getOrCreate()\n",
    "\n",
    "# Define file path\n",
    "engagements_path = \"dbfs:/FileStore/tables/engagements_csv.zip\"\n",
    "offers_path = \"dbfs:/FileStore/tables/offers.csv\"\n",
    "shopper_offers_path = \"dbfs:/FileStore/tables/shopper_offers.csv\"\n",
    "shoppers_path = \"dbfs:/FileStore/tables/shoppers.csv\"\n",
    "\n",
    "# Load datasets into Spark DataFrames\n",
    "engagements_df = spark.read.csv(engagements_path, header = True, inferSchema = True)\n",
    "offers_df = spark.read.csv(offers_path, header = True, inferSchema = True)\n",
    "shopper_offers_df = spark.read.csv(shopper_offers_path, header = True, inferSchema = True)\n",
    "shoppers_df = spark.read.csv(shoppers_path, header = True, inferSchema = True)\n",
    "\n",
    "#Register datasets into Spark DataFrames\n",
    "engagements_df.createOrReplaceTempView(\"engagements\")\n",
    "offers_df.createOrReplaceTempView(\"offers\")\n",
    "shopper_offers_df.createOrReplaceTempView(\"shopper_offers\")\n",
    "shoppers_df.createOrReplaceTempView(\"shoppers\")\n",
    "\n",
    "# Display schema to understand data structure\n",
    "#engagements_df.show(5)\n",
    "engagements_df.printSchema()\n",
    "spark.sql(\"SHOW TABLES\").show()"
   ]
  },
  {
   "cell_type": "code",
   "execution_count": 0,
   "metadata": {
    "application/vnd.databricks.v1+cell": {
     "cellMetadata": {
      "byteLimit": 2048000,
      "rowLimit": 10000
     },
     "inputWidgets": {},
     "nuid": "bacc1435-fbf4-4d7a-be8f-f76986b6e1d3",
     "showTitle": false,
     "tableResultSettingsMap": {},
     "title": ""
    }
   },
   "outputs": [
    {
     "output_type": "stream",
     "name": "stderr",
     "output_type": "stream",
     "text": [
      "Downloading...\nFrom (original): https://drive.google.com/uc?export=download&id=1t7Vfus51OfpuZezfCiie3GxJWogeBOEN\nFrom (redirected): https://drive.google.com/uc?export=download&id=1t7Vfus51OfpuZezfCiie3GxJWogeBOEN&confirm=t&uuid=36bc82a6-71ea-492d-8fa5-c651554d44aa\nTo: /dbfs/tmp/engagements.csv\n\r  0%|          | 0.00/1.55G [00:00<?, ?B/s]\r  0%|          | 6.82M/1.55G [00:00<00:28, 54.8MB/s]\r  1%|          | 15.2M/1.55G [00:00<00:23, 66.1MB/s]\r  2%|▏         | 23.6M/1.55G [00:00<00:22, 69.0MB/s]\r  2%|▏         | 33.6M/1.55G [00:00<00:19, 79.0MB/s]\r  3%|▎         | 41.9M/1.55G [00:00<00:21, 70.9MB/s]\r  3%|▎         | 52.4M/1.55G [00:00<00:18, 80.6MB/s]\r  4%|▍         | 65.0M/1.55G [00:00<00:15, 93.6MB/s]\r  5%|▍         | 75.0M/1.55G [00:00<00:19, 77.7MB/s]\r  6%|▌         | 87.6M/1.55G [00:01<00:16, 87.8MB/s]\r  6%|▌         | 97.0M/1.55G [00:01<00:18, 80.2MB/s]\r  7%|▋         | 112M/1.55G [00:01<00:17, 82.7MB/s] \r  8%|▊         | 125M/1.55G [00:01<00:15, 93.3MB/s]\r  9%|▊         | 135M/1.55G [00:01<00:15, 92.3MB/s]\r  9%|▉         | 145M/1.55G [00:01<00:24, 58.3MB/s]\r 10%|█         | 160M/1.55G [00:02<00:18, 76.3MB/s]\r 11%|█         | 171M/1.55G [00:02<00:16, 82.2MB/s]\r 12%|█▏        | 181M/1.55G [00:02<00:21, 63.8MB/s]\r 12%|█▏        | 193M/1.55G [00:02<00:18, 72.3MB/s]\r 13%|█▎        | 208M/1.55G [00:02<00:15, 87.5MB/s]\r 14%|█▍        | 218M/1.55G [00:02<00:14, 89.9MB/s]\r 15%|█▌        | 235M/1.55G [00:02<00:12, 107MB/s] \r 16%|█▌        | 250M/1.55G [00:02<00:11, 117MB/s]\r 17%|█▋        | 263M/1.55G [00:03<00:11, 113MB/s]\r 18%|█▊        | 276M/1.55G [00:03<00:10, 118MB/s]\r 19%|█▊        | 291M/1.55G [00:03<00:10, 126MB/s]\r 20%|█▉        | 307M/1.55G [00:03<00:09, 134MB/s]\r 21%|██        | 321M/1.55G [00:03<00:09, 124MB/s]\r 22%|██▏       | 335M/1.55G [00:03<00:09, 128MB/s]\r 23%|██▎       | 351M/1.55G [00:03<00:08, 134MB/s]\r 24%|██▎       | 368M/1.55G [00:03<00:08, 143MB/s]\r 25%|██▍       | 383M/1.55G [00:03<00:09, 126MB/s]\r 26%|██▌       | 401M/1.55G [00:04<00:08, 139MB/s]\r 27%|██▋       | 417M/1.55G [00:04<00:07, 146MB/s]\r 28%|██▊       | 433M/1.55G [00:04<00:08, 139MB/s]\r 29%|██▉       | 449M/1.55G [00:04<00:07, 145MB/s]\r 30%|██▉       | 464M/1.55G [00:04<00:07, 139MB/s]\r 31%|███       | 481M/1.55G [00:04<00:07, 149MB/s]\r 32%|███▏      | 497M/1.55G [00:04<00:07, 147MB/s]\r 33%|███▎      | 514M/1.55G [00:04<00:06, 154MB/s]\r 34%|███▍      | 530M/1.55G [00:04<00:07, 142MB/s]\r 35%|███▌      | 545M/1.55G [00:05<00:06, 145MB/s]\r 36%|███▌      | 560M/1.55G [00:05<00:06, 143MB/s]\r 37%|███▋      | 576M/1.55G [00:05<00:06, 145MB/s]\r 38%|███▊      | 590M/1.55G [00:05<00:06, 143MB/s]\r 39%|███▉      | 605M/1.55G [00:05<00:06, 136MB/s]\r 40%|████      | 624M/1.55G [00:05<00:06, 147MB/s]\r 41%|████▏     | 644M/1.55G [00:05<00:05, 158MB/s]\r 42%|████▏     | 660M/1.55G [00:05<00:05, 157MB/s]\r 44%|████▎     | 676M/1.55G [00:06<00:07, 121MB/s]\r 44%|████▍     | 692M/1.55G [00:06<00:06, 128MB/s]\r 46%|████▌     | 708M/1.55G [00:06<00:06, 136MB/s]\r 47%|████▋     | 724M/1.55G [00:06<00:05, 141MB/s]\r 48%|████▊     | 739M/1.55G [00:06<00:05, 139MB/s]\r 48%|████▊     | 754M/1.55G [00:06<00:05, 136MB/s]\r 49%|████▉     | 768M/1.55G [00:06<00:05, 136MB/s]\r 51%|█████     | 786M/1.55G [00:06<00:05, 148MB/s]\r 52%|█████▏    | 803M/1.55G [00:06<00:04, 153MB/s]\r 53%|█████▎    | 819M/1.55G [00:06<00:04, 155MB/s]\r 54%|█████▎    | 835M/1.55G [00:07<00:04, 149MB/s]\r 55%|█████▍    | 853M/1.55G [00:07<00:04, 158MB/s]\r 56%|█████▌    | 870M/1.55G [00:07<00:04, 160MB/s]\r 57%|█████▋    | 888M/1.55G [00:07<00:04, 166MB/s]\r 58%|█████▊    | 905M/1.55G [00:07<00:04, 151MB/s]\r 59%|█████▉    | 922M/1.55G [00:07<00:04, 155MB/s]\r 60%|██████    | 939M/1.55G [00:07<00:03, 159MB/s]\r 61%|██████▏   | 956M/1.55G [00:07<00:03, 161MB/s]\r 63%|██████▎   | 972M/1.55G [00:07<00:03, 155MB/s]\r 64%|██████▎   | 990M/1.55G [00:08<00:03, 161MB/s]\r 65%|██████▍   | 1.01G/1.55G [00:08<00:03, 161MB/s]\r 66%|██████▌   | 1.02G/1.55G [00:08<00:03, 153MB/s]\r 67%|██████▋   | 1.04G/1.55G [00:08<00:04, 118MB/s]\r 68%|██████▊   | 1.05G/1.55G [00:08<00:03, 126MB/s]\r 69%|██████▉   | 1.07G/1.55G [00:08<00:03, 135MB/s]\r 70%|██████▉   | 1.09G/1.55G [00:08<00:03, 146MB/s]\r 71%|███████   | 1.10G/1.55G [00:08<00:03, 147MB/s]\r 72%|███████▏  | 1.12G/1.55G [00:08<00:02, 147MB/s]\r 73%|███████▎  | 1.13G/1.55G [00:09<00:03, 138MB/s]\r 74%|███████▍  | 1.15G/1.55G [00:09<00:02, 144MB/s]\r 75%|███████▌  | 1.17G/1.55G [00:09<00:02, 130MB/s]\r 76%|███████▌  | 1.18G/1.55G [00:09<00:02, 130MB/s]\r 77%|███████▋  | 1.19G/1.55G [00:09<00:02, 132MB/s]\r 78%|███████▊  | 1.21G/1.55G [00:09<00:02, 134MB/s]\r 79%|███████▊  | 1.22G/1.55G [00:09<00:02, 137MB/s]\r 80%|███████▉  | 1.24G/1.55G [00:09<00:02, 136MB/s]\r 81%|████████  | 1.25G/1.55G [00:09<00:02, 138MB/s]\r 81%|████████▏ | 1.27G/1.55G [00:10<00:02, 132MB/s]\r 82%|████████▏ | 1.28G/1.55G [00:10<00:02, 129MB/s]\r 83%|████████▎ | 1.29G/1.55G [00:10<00:02, 88.9MB/s]\r 84%|████████▍ | 1.31G/1.55G [00:10<00:02, 106MB/s] \r 85%|████████▌ | 1.32G/1.55G [00:10<00:01, 117MB/s]\r 86%|████████▋ | 1.34G/1.55G [00:10<00:01, 113MB/s]\r 87%|████████▋ | 1.36G/1.55G [00:10<00:01, 131MB/s]\r 88%|████████▊ | 1.37G/1.55G [00:11<00:01, 127MB/s]\r 90%|████████▉ | 1.39G/1.55G [00:11<00:01, 142MB/s]\r 91%|█████████ | 1.41G/1.55G [00:11<00:01, 116MB/s]\r 92%|█████████▏| 1.43G/1.55G [00:11<00:00, 131MB/s]\r 93%|█████████▎| 1.44G/1.55G [00:11<00:00, 132MB/s]\r 94%|█████████▎| 1.46G/1.55G [00:11<00:00, 137MB/s]\r 95%|█████████▍| 1.47G/1.55G [00:11<00:00, 143MB/s]\r 96%|█████████▌| 1.49G/1.55G [00:11<00:00, 130MB/s]\r 97%|█████████▋| 1.51G/1.55G [00:12<00:00, 138MB/s]\r 98%|█████████▊| 1.52G/1.55G [00:12<00:00, 144MB/s]\r 99%|█████████▉| 1.54G/1.55G [00:12<00:00, 156MB/s]\r100%|██████████| 1.55G/1.55G [00:12<00:00, 126MB/s]\n"
     ]
    },
    {
     "output_type": "stream",
     "name": "stdout",
     "output_type": "stream",
     "text": [
      "Out[5]: '/dbfs/tmp/engagements.csv'"
     ]
    }
   ],
   "source": [
    "import os\n",
    "import gdown\n",
    "\n",
    "# Ensure directory exists\n",
    "output_dir = '/dbfs/tmp/'\n",
    "os.makedirs(output_dir, exist_ok = True)\n",
    "\n",
    "# Google Drive file URL\n",
    "url = 'https://drive.google.com/uc?export=download&id=1t7Vfus51OfpuZezfCiie3GxJWogeBOEN'\n",
    "\n",
    "# Destination path in DBFS\n",
    "output_path = os.path.join(output_dir, 'engagements.csv')\n",
    "\n",
    "# Download the file\n",
    "gdown.download(url, output_path, quiet=False)\n"
   ]
  },
  {
   "cell_type": "code",
   "execution_count": 0,
   "metadata": {
    "application/vnd.databricks.v1+cell": {
     "cellMetadata": {
      "byteLimit": 2048000,
      "rowLimit": 10000
     },
     "inputWidgets": {},
     "nuid": "0f96efd8-dd15-4b2e-ae76-1fdad993557c",
     "showTitle": false,
     "tableResultSettingsMap": {},
     "title": ""
    }
   },
   "outputs": [
    {
     "output_type": "display_data",
     "data": {
      "text/plain": [
       "\u001B[0;31m---------------------------------------------------------------------------\u001B[0m\n",
       "\u001B[0;31mNameError\u001B[0m                                 Traceback (most recent call last)\n",
       "File \u001B[0;32m<command-3915224358482294>:3\u001B[0m\n",
       "\u001B[1;32m      1\u001B[0m \u001B[38;5;66;03m## Verify Column names in DataFrames\u001B[39;00m\n",
       "\u001B[1;32m      2\u001B[0m \u001B[38;5;66;03m# Show schema of the shoppers dataset\u001B[39;00m\n",
       "\u001B[0;32m----> 3\u001B[0m shoppers_df\u001B[38;5;241m.\u001B[39mprintSchema()\n",
       "\u001B[1;32m      5\u001B[0m \u001B[38;5;66;03m# Show first few rows to verify column names\u001B[39;00m\n",
       "\u001B[1;32m      6\u001B[0m shoppers_df\u001B[38;5;241m.\u001B[39mshow(\u001B[38;5;241m5\u001B[39m)\n",
       "\n",
       "\u001B[0;31mNameError\u001B[0m: name 'shoppers_df' is not defined"
      ]
     },
     "metadata": {
      "application/vnd.databricks.v1+output": {
       "arguments": {},
       "data": "\u001B[0;31m---------------------------------------------------------------------------\u001B[0m\n\u001B[0;31mNameError\u001B[0m                                 Traceback (most recent call last)\nFile \u001B[0;32m<command-3915224358482294>:3\u001B[0m\n\u001B[1;32m      1\u001B[0m \u001B[38;5;66;03m## Verify Column names in DataFrames\u001B[39;00m\n\u001B[1;32m      2\u001B[0m \u001B[38;5;66;03m# Show schema of the shoppers dataset\u001B[39;00m\n\u001B[0;32m----> 3\u001B[0m shoppers_df\u001B[38;5;241m.\u001B[39mprintSchema()\n\u001B[1;32m      5\u001B[0m \u001B[38;5;66;03m# Show first few rows to verify column names\u001B[39;00m\n\u001B[1;32m      6\u001B[0m shoppers_df\u001B[38;5;241m.\u001B[39mshow(\u001B[38;5;241m5\u001B[39m)\n\n\u001B[0;31mNameError\u001B[0m: name 'shoppers_df' is not defined",
       "errorSummary": "<span class='ansi-red-fg'>NameError</span>: name 'shoppers_df' is not defined",
       "errorTraceType": "ansi",
       "metadata": {},
       "type": "ipynbError"
      }
     },
     "output_type": "display_data"
    }
   ],
   "source": [
    "## Verify Column names in DataFrames\n",
    "# Show schema of the shoppers dataset\n",
    "shoppers_df.printSchema()\n",
    "\n",
    "# Show first few rows to verify column names\n",
    "shoppers_df.show(5)\n",
    "\n",
    "# Show engagements dataset schema\n",
    "engagements_df.printSchema()"
   ]
  },
  {
   "cell_type": "code",
   "execution_count": 0,
   "metadata": {
    "application/vnd.databricks.v1+cell": {
     "cellMetadata": {
      "byteLimit": 2048000,
      "implicitDf": true,
      "rowLimit": 10000
     },
     "inputWidgets": {},
     "nuid": "763d14ff-fa41-4597-a0a0-8424843c0db0",
     "showTitle": false,
     "tableResultSettingsMap": {},
     "title": ""
    }
   },
   "outputs": [
    {
     "output_type": "display_data",
     "data": {
      "text/plain": [
       "\u001B[0;31m---------------------------------------------------------------------------\u001B[0m\n",
       "\u001B[0;31mAnalysisException\u001B[0m                         Traceback (most recent call last)\n",
       "File \u001B[0;32m<command-3915224358482290>:7\u001B[0m\n",
       "\u001B[1;32m      5\u001B[0m     display(df)\n",
       "\u001B[1;32m      6\u001B[0m     \u001B[38;5;28;01mreturn\u001B[39;00m df\n",
       "\u001B[0;32m----> 7\u001B[0m   _sqldf \u001B[38;5;241m=\u001B[39m \u001B[43m____databricks_percent_sql\u001B[49m\u001B[43m(\u001B[49m\u001B[43m)\u001B[49m\n",
       "\u001B[1;32m      8\u001B[0m \u001B[38;5;28;01mfinally\u001B[39;00m:\n",
       "\u001B[1;32m      9\u001B[0m   \u001B[38;5;28;01mdel\u001B[39;00m ____databricks_percent_sql\n",
       "\n",
       "File \u001B[0;32m<command-3915224358482290>:4\u001B[0m, in \u001B[0;36m____databricks_percent_sql\u001B[0;34m()\u001B[0m\n",
       "\u001B[1;32m      2\u001B[0m \u001B[38;5;28;01mdef\u001B[39;00m \u001B[38;5;21m____databricks_percent_sql\u001B[39m():\n",
       "\u001B[1;32m      3\u001B[0m   \u001B[38;5;28;01mimport\u001B[39;00m \u001B[38;5;21;01mbase64\u001B[39;00m\n",
       "\u001B[0;32m----> 4\u001B[0m   df \u001B[38;5;241m=\u001B[39m \u001B[43mspark\u001B[49m\u001B[38;5;241;43m.\u001B[39;49m\u001B[43msql\u001B[49m\u001B[43m(\u001B[49m\u001B[43mbase64\u001B[49m\u001B[38;5;241;43m.\u001B[39;49m\u001B[43mstandard_b64decode\u001B[49m\u001B[43m(\u001B[49m\u001B[38;5;124;43m\"\u001B[39;49m\u001B[38;5;124;43mc2VsZWN0IHMuc2hvcHBlcl9pZCwgY291bnQoZGlzdGluY3QgZS5ldmVudF90eXBlKSBhcyBlbmdhZ2VtZW50X2NvdW50CmZyb20gU2hvcHBlcnMgcwpsZWZ0IGpvaW4gRW5nYWdlbWVudCBlIG9uIHMuc2hvcHBlci5pZCA9IGUuc2hvcHBlcl9pZAp3aGVyZSBlLmV2ZW50X3RpbWVzdGFtcCBiZXR3ZWVuIHMucmVnaXN0cmF0aW9uX2RhdGUgYW5kIGRhdGVfYWRkKHMucmVnaXN0cmF0aW9uX2RhdGUsIElOVEVSVkFMIDYgTU9OVEgpCmdyb3VwIGJ5IHMuc2hvcHBlcl9pZA==\u001B[39;49m\u001B[38;5;124;43m\"\u001B[39;49m\u001B[43m)\u001B[49m\u001B[38;5;241;43m.\u001B[39;49m\u001B[43mdecode\u001B[49m\u001B[43m(\u001B[49m\u001B[43m)\u001B[49m\u001B[43m)\u001B[49m\n",
       "\u001B[1;32m      5\u001B[0m   display(df)\n",
       "\u001B[1;32m      6\u001B[0m   \u001B[38;5;28;01mreturn\u001B[39;00m df\n",
       "\n",
       "File \u001B[0;32m/databricks/spark/python/pyspark/instrumentation_utils.py:48\u001B[0m, in \u001B[0;36m_wrap_function.<locals>.wrapper\u001B[0;34m(*args, **kwargs)\u001B[0m\n",
       "\u001B[1;32m     46\u001B[0m start \u001B[38;5;241m=\u001B[39m time\u001B[38;5;241m.\u001B[39mperf_counter()\n",
       "\u001B[1;32m     47\u001B[0m \u001B[38;5;28;01mtry\u001B[39;00m:\n",
       "\u001B[0;32m---> 48\u001B[0m     res \u001B[38;5;241m=\u001B[39m \u001B[43mfunc\u001B[49m\u001B[43m(\u001B[49m\u001B[38;5;241;43m*\u001B[39;49m\u001B[43margs\u001B[49m\u001B[43m,\u001B[49m\u001B[43m \u001B[49m\u001B[38;5;241;43m*\u001B[39;49m\u001B[38;5;241;43m*\u001B[39;49m\u001B[43mkwargs\u001B[49m\u001B[43m)\u001B[49m\n",
       "\u001B[1;32m     49\u001B[0m     logger\u001B[38;5;241m.\u001B[39mlog_success(\n",
       "\u001B[1;32m     50\u001B[0m         module_name, class_name, function_name, time\u001B[38;5;241m.\u001B[39mperf_counter() \u001B[38;5;241m-\u001B[39m start, signature\n",
       "\u001B[1;32m     51\u001B[0m     )\n",
       "\u001B[1;32m     52\u001B[0m     \u001B[38;5;28;01mreturn\u001B[39;00m res\n",
       "\n",
       "File \u001B[0;32m/databricks/spark/python/pyspark/sql/session.py:1387\u001B[0m, in \u001B[0;36mSparkSession.sql\u001B[0;34m(self, sqlQuery, args, **kwargs)\u001B[0m\n",
       "\u001B[1;32m   1385\u001B[0m \u001B[38;5;28;01mtry\u001B[39;00m:\n",
       "\u001B[1;32m   1386\u001B[0m     litArgs \u001B[38;5;241m=\u001B[39m {k: _to_java_column(lit(v)) \u001B[38;5;28;01mfor\u001B[39;00m k, v \u001B[38;5;129;01min\u001B[39;00m (args \u001B[38;5;129;01mor\u001B[39;00m {})\u001B[38;5;241m.\u001B[39mitems()}\n",
       "\u001B[0;32m-> 1387\u001B[0m     \u001B[38;5;28;01mreturn\u001B[39;00m DataFrame(\u001B[38;5;28;43mself\u001B[39;49m\u001B[38;5;241;43m.\u001B[39;49m\u001B[43m_jsparkSession\u001B[49m\u001B[38;5;241;43m.\u001B[39;49m\u001B[43msql\u001B[49m\u001B[43m(\u001B[49m\u001B[43msqlQuery\u001B[49m\u001B[43m,\u001B[49m\u001B[43m \u001B[49m\u001B[43mlitArgs\u001B[49m\u001B[43m)\u001B[49m, \u001B[38;5;28mself\u001B[39m)\n",
       "\u001B[1;32m   1388\u001B[0m \u001B[38;5;28;01mfinally\u001B[39;00m:\n",
       "\u001B[1;32m   1389\u001B[0m     \u001B[38;5;28;01mif\u001B[39;00m \u001B[38;5;28mlen\u001B[39m(kwargs) \u001B[38;5;241m>\u001B[39m \u001B[38;5;241m0\u001B[39m:\n",
       "\n",
       "File \u001B[0;32m/databricks/spark/python/lib/py4j-0.10.9.5-src.zip/py4j/java_gateway.py:1321\u001B[0m, in \u001B[0;36mJavaMember.__call__\u001B[0;34m(self, *args)\u001B[0m\n",
       "\u001B[1;32m   1315\u001B[0m command \u001B[38;5;241m=\u001B[39m proto\u001B[38;5;241m.\u001B[39mCALL_COMMAND_NAME \u001B[38;5;241m+\u001B[39m\\\n",
       "\u001B[1;32m   1316\u001B[0m     \u001B[38;5;28mself\u001B[39m\u001B[38;5;241m.\u001B[39mcommand_header \u001B[38;5;241m+\u001B[39m\\\n",
       "\u001B[1;32m   1317\u001B[0m     args_command \u001B[38;5;241m+\u001B[39m\\\n",
       "\u001B[1;32m   1318\u001B[0m     proto\u001B[38;5;241m.\u001B[39mEND_COMMAND_PART\n",
       "\u001B[1;32m   1320\u001B[0m answer \u001B[38;5;241m=\u001B[39m \u001B[38;5;28mself\u001B[39m\u001B[38;5;241m.\u001B[39mgateway_client\u001B[38;5;241m.\u001B[39msend_command(command)\n",
       "\u001B[0;32m-> 1321\u001B[0m return_value \u001B[38;5;241m=\u001B[39m \u001B[43mget_return_value\u001B[49m\u001B[43m(\u001B[49m\n",
       "\u001B[1;32m   1322\u001B[0m \u001B[43m    \u001B[49m\u001B[43manswer\u001B[49m\u001B[43m,\u001B[49m\u001B[43m \u001B[49m\u001B[38;5;28;43mself\u001B[39;49m\u001B[38;5;241;43m.\u001B[39;49m\u001B[43mgateway_client\u001B[49m\u001B[43m,\u001B[49m\u001B[43m \u001B[49m\u001B[38;5;28;43mself\u001B[39;49m\u001B[38;5;241;43m.\u001B[39;49m\u001B[43mtarget_id\u001B[49m\u001B[43m,\u001B[49m\u001B[43m \u001B[49m\u001B[38;5;28;43mself\u001B[39;49m\u001B[38;5;241;43m.\u001B[39;49m\u001B[43mname\u001B[49m\u001B[43m)\u001B[49m\n",
       "\u001B[1;32m   1324\u001B[0m \u001B[38;5;28;01mfor\u001B[39;00m temp_arg \u001B[38;5;129;01min\u001B[39;00m temp_args:\n",
       "\u001B[1;32m   1325\u001B[0m     temp_arg\u001B[38;5;241m.\u001B[39m_detach()\n",
       "\n",
       "File \u001B[0;32m/databricks/spark/python/pyspark/errors/exceptions.py:234\u001B[0m, in \u001B[0;36mcapture_sql_exception.<locals>.deco\u001B[0;34m(*a, **kw)\u001B[0m\n",
       "\u001B[1;32m    230\u001B[0m converted \u001B[38;5;241m=\u001B[39m convert_exception(e\u001B[38;5;241m.\u001B[39mjava_exception)\n",
       "\u001B[1;32m    231\u001B[0m \u001B[38;5;28;01mif\u001B[39;00m \u001B[38;5;129;01mnot\u001B[39;00m \u001B[38;5;28misinstance\u001B[39m(converted, UnknownException):\n",
       "\u001B[1;32m    232\u001B[0m     \u001B[38;5;66;03m# Hide where the exception came from that shows a non-Pythonic\u001B[39;00m\n",
       "\u001B[1;32m    233\u001B[0m     \u001B[38;5;66;03m# JVM exception message.\u001B[39;00m\n",
       "\u001B[0;32m--> 234\u001B[0m     \u001B[38;5;28;01mraise\u001B[39;00m converted \u001B[38;5;28;01mfrom\u001B[39;00m \u001B[38;5;28mNone\u001B[39m\n",
       "\u001B[1;32m    235\u001B[0m \u001B[38;5;28;01melse\u001B[39;00m:\n",
       "\u001B[1;32m    236\u001B[0m     \u001B[38;5;28;01mraise\u001B[39;00m\n",
       "\n",
       "\u001B[0;31mAnalysisException\u001B[0m: [UNRESOLVED_COLUMN.WITH_SUGGESTION] A column or function parameter with name `s`.`customer`.`id` cannot be resolved. Did you mean one of the following? [`s`.`customer_id`, `s`.`registration_date`, `s`.`registration_device`, `e`.`PK\u0003\u0004\u0014\u0000\b\u0000\b\u0000�zXY\u0000\u0000\u0000\u0000\u0000\u0000\u0000\u0000�ը\\\u000F\u0000 \u0000engagements.csvUT`].; line 5 pos 27;\n",
       "'Aggregate ['s.customer_id], ['s.customer_id, 'count(distinct 'e.event_type) AS engagement_count#3875]\n",
       "+- 'Filter (('e.event_timestamp >= 's.registration_date) AND ('e.event_timestamp <= 'date_add('s.registration_date, INTERVAL '6' MONTH)))\n",
       "   +- 'Join LeftOuter, ('s.customer.id = 'e.customer_id)\n",
       "      :- SubqueryAlias s\n",
       "      :  +- SubqueryAlias shoppers\n",
       "      :     +- View (`shoppers`, [customer_id#3116L,registration_date#3117,registration_device#3118])\n",
       "      :        +- Relation [customer_id#3116L,registration_date#3117,registration_device#3118] csv\n",
       "      +- SubqueryAlias e\n",
       "         +- SubqueryAlias engagements\n",
       "            +- View (`engagements`, [PK\u0003\u0004\u0014\u0000\b\u0000\b\u0000�zXY\u0000\u0000\u0000\u0000\u0000\u0000\u0000\u0000�ը\\\u000F\u0000 \u0000engagements.csvUT#3045])\n",
       "               +- Relation [PK\u0003\u0004\u0014\u0000\b\u0000\b\u0000�zXY\u0000\u0000\u0000\u0000\u0000\u0000\u0000\u0000�ը\\\u000F\u0000 \u0000engagements.csvUT#3045] csv\n"
      ]
     },
     "metadata": {
      "application/vnd.databricks.v1+output": {
       "arguments": {},
       "data": "\u001B[0;31m---------------------------------------------------------------------------\u001B[0m\n\u001B[0;31mAnalysisException\u001B[0m                         Traceback (most recent call last)\nFile \u001B[0;32m<command-3915224358482290>:7\u001B[0m\n\u001B[1;32m      5\u001B[0m     display(df)\n\u001B[1;32m      6\u001B[0m     \u001B[38;5;28;01mreturn\u001B[39;00m df\n\u001B[0;32m----> 7\u001B[0m   _sqldf \u001B[38;5;241m=\u001B[39m \u001B[43m____databricks_percent_sql\u001B[49m\u001B[43m(\u001B[49m\u001B[43m)\u001B[49m\n\u001B[1;32m      8\u001B[0m \u001B[38;5;28;01mfinally\u001B[39;00m:\n\u001B[1;32m      9\u001B[0m   \u001B[38;5;28;01mdel\u001B[39;00m ____databricks_percent_sql\n\nFile \u001B[0;32m<command-3915224358482290>:4\u001B[0m, in \u001B[0;36m____databricks_percent_sql\u001B[0;34m()\u001B[0m\n\u001B[1;32m      2\u001B[0m \u001B[38;5;28;01mdef\u001B[39;00m \u001B[38;5;21m____databricks_percent_sql\u001B[39m():\n\u001B[1;32m      3\u001B[0m   \u001B[38;5;28;01mimport\u001B[39;00m \u001B[38;5;21;01mbase64\u001B[39;00m\n\u001B[0;32m----> 4\u001B[0m   df \u001B[38;5;241m=\u001B[39m \u001B[43mspark\u001B[49m\u001B[38;5;241;43m.\u001B[39;49m\u001B[43msql\u001B[49m\u001B[43m(\u001B[49m\u001B[43mbase64\u001B[49m\u001B[38;5;241;43m.\u001B[39;49m\u001B[43mstandard_b64decode\u001B[49m\u001B[43m(\u001B[49m\u001B[38;5;124;43m\"\u001B[39;49m\u001B[38;5;124;43mc2VsZWN0IHMuc2hvcHBlcl9pZCwgY291bnQoZGlzdGluY3QgZS5ldmVudF90eXBlKSBhcyBlbmdhZ2VtZW50X2NvdW50CmZyb20gU2hvcHBlcnMgcwpsZWZ0IGpvaW4gRW5nYWdlbWVudCBlIG9uIHMuc2hvcHBlci5pZCA9IGUuc2hvcHBlcl9pZAp3aGVyZSBlLmV2ZW50X3RpbWVzdGFtcCBiZXR3ZWVuIHMucmVnaXN0cmF0aW9uX2RhdGUgYW5kIGRhdGVfYWRkKHMucmVnaXN0cmF0aW9uX2RhdGUsIElOVEVSVkFMIDYgTU9OVEgpCmdyb3VwIGJ5IHMuc2hvcHBlcl9pZA==\u001B[39;49m\u001B[38;5;124;43m\"\u001B[39;49m\u001B[43m)\u001B[49m\u001B[38;5;241;43m.\u001B[39;49m\u001B[43mdecode\u001B[49m\u001B[43m(\u001B[49m\u001B[43m)\u001B[49m\u001B[43m)\u001B[49m\n\u001B[1;32m      5\u001B[0m   display(df)\n\u001B[1;32m      6\u001B[0m   \u001B[38;5;28;01mreturn\u001B[39;00m df\n\nFile \u001B[0;32m/databricks/spark/python/pyspark/instrumentation_utils.py:48\u001B[0m, in \u001B[0;36m_wrap_function.<locals>.wrapper\u001B[0;34m(*args, **kwargs)\u001B[0m\n\u001B[1;32m     46\u001B[0m start \u001B[38;5;241m=\u001B[39m time\u001B[38;5;241m.\u001B[39mperf_counter()\n\u001B[1;32m     47\u001B[0m \u001B[38;5;28;01mtry\u001B[39;00m:\n\u001B[0;32m---> 48\u001B[0m     res \u001B[38;5;241m=\u001B[39m \u001B[43mfunc\u001B[49m\u001B[43m(\u001B[49m\u001B[38;5;241;43m*\u001B[39;49m\u001B[43margs\u001B[49m\u001B[43m,\u001B[49m\u001B[43m \u001B[49m\u001B[38;5;241;43m*\u001B[39;49m\u001B[38;5;241;43m*\u001B[39;49m\u001B[43mkwargs\u001B[49m\u001B[43m)\u001B[49m\n\u001B[1;32m     49\u001B[0m     logger\u001B[38;5;241m.\u001B[39mlog_success(\n\u001B[1;32m     50\u001B[0m         module_name, class_name, function_name, time\u001B[38;5;241m.\u001B[39mperf_counter() \u001B[38;5;241m-\u001B[39m start, signature\n\u001B[1;32m     51\u001B[0m     )\n\u001B[1;32m     52\u001B[0m     \u001B[38;5;28;01mreturn\u001B[39;00m res\n\nFile \u001B[0;32m/databricks/spark/python/pyspark/sql/session.py:1387\u001B[0m, in \u001B[0;36mSparkSession.sql\u001B[0;34m(self, sqlQuery, args, **kwargs)\u001B[0m\n\u001B[1;32m   1385\u001B[0m \u001B[38;5;28;01mtry\u001B[39;00m:\n\u001B[1;32m   1386\u001B[0m     litArgs \u001B[38;5;241m=\u001B[39m {k: _to_java_column(lit(v)) \u001B[38;5;28;01mfor\u001B[39;00m k, v \u001B[38;5;129;01min\u001B[39;00m (args \u001B[38;5;129;01mor\u001B[39;00m {})\u001B[38;5;241m.\u001B[39mitems()}\n\u001B[0;32m-> 1387\u001B[0m     \u001B[38;5;28;01mreturn\u001B[39;00m DataFrame(\u001B[38;5;28;43mself\u001B[39;49m\u001B[38;5;241;43m.\u001B[39;49m\u001B[43m_jsparkSession\u001B[49m\u001B[38;5;241;43m.\u001B[39;49m\u001B[43msql\u001B[49m\u001B[43m(\u001B[49m\u001B[43msqlQuery\u001B[49m\u001B[43m,\u001B[49m\u001B[43m \u001B[49m\u001B[43mlitArgs\u001B[49m\u001B[43m)\u001B[49m, \u001B[38;5;28mself\u001B[39m)\n\u001B[1;32m   1388\u001B[0m \u001B[38;5;28;01mfinally\u001B[39;00m:\n\u001B[1;32m   1389\u001B[0m     \u001B[38;5;28;01mif\u001B[39;00m \u001B[38;5;28mlen\u001B[39m(kwargs) \u001B[38;5;241m>\u001B[39m \u001B[38;5;241m0\u001B[39m:\n\nFile \u001B[0;32m/databricks/spark/python/lib/py4j-0.10.9.5-src.zip/py4j/java_gateway.py:1321\u001B[0m, in \u001B[0;36mJavaMember.__call__\u001B[0;34m(self, *args)\u001B[0m\n\u001B[1;32m   1315\u001B[0m command \u001B[38;5;241m=\u001B[39m proto\u001B[38;5;241m.\u001B[39mCALL_COMMAND_NAME \u001B[38;5;241m+\u001B[39m\\\n\u001B[1;32m   1316\u001B[0m     \u001B[38;5;28mself\u001B[39m\u001B[38;5;241m.\u001B[39mcommand_header \u001B[38;5;241m+\u001B[39m\\\n\u001B[1;32m   1317\u001B[0m     args_command \u001B[38;5;241m+\u001B[39m\\\n\u001B[1;32m   1318\u001B[0m     proto\u001B[38;5;241m.\u001B[39mEND_COMMAND_PART\n\u001B[1;32m   1320\u001B[0m answer \u001B[38;5;241m=\u001B[39m \u001B[38;5;28mself\u001B[39m\u001B[38;5;241m.\u001B[39mgateway_client\u001B[38;5;241m.\u001B[39msend_command(command)\n\u001B[0;32m-> 1321\u001B[0m return_value \u001B[38;5;241m=\u001B[39m \u001B[43mget_return_value\u001B[49m\u001B[43m(\u001B[49m\n\u001B[1;32m   1322\u001B[0m \u001B[43m    \u001B[49m\u001B[43manswer\u001B[49m\u001B[43m,\u001B[49m\u001B[43m \u001B[49m\u001B[38;5;28;43mself\u001B[39;49m\u001B[38;5;241;43m.\u001B[39;49m\u001B[43mgateway_client\u001B[49m\u001B[43m,\u001B[49m\u001B[43m \u001B[49m\u001B[38;5;28;43mself\u001B[39;49m\u001B[38;5;241;43m.\u001B[39;49m\u001B[43mtarget_id\u001B[49m\u001B[43m,\u001B[49m\u001B[43m \u001B[49m\u001B[38;5;28;43mself\u001B[39;49m\u001B[38;5;241;43m.\u001B[39;49m\u001B[43mname\u001B[49m\u001B[43m)\u001B[49m\n\u001B[1;32m   1324\u001B[0m \u001B[38;5;28;01mfor\u001B[39;00m temp_arg \u001B[38;5;129;01min\u001B[39;00m temp_args:\n\u001B[1;32m   1325\u001B[0m     temp_arg\u001B[38;5;241m.\u001B[39m_detach()\n\nFile \u001B[0;32m/databricks/spark/python/pyspark/errors/exceptions.py:234\u001B[0m, in \u001B[0;36mcapture_sql_exception.<locals>.deco\u001B[0;34m(*a, **kw)\u001B[0m\n\u001B[1;32m    230\u001B[0m converted \u001B[38;5;241m=\u001B[39m convert_exception(e\u001B[38;5;241m.\u001B[39mjava_exception)\n\u001B[1;32m    231\u001B[0m \u001B[38;5;28;01mif\u001B[39;00m \u001B[38;5;129;01mnot\u001B[39;00m \u001B[38;5;28misinstance\u001B[39m(converted, UnknownException):\n\u001B[1;32m    232\u001B[0m     \u001B[38;5;66;03m# Hide where the exception came from that shows a non-Pythonic\u001B[39;00m\n\u001B[1;32m    233\u001B[0m     \u001B[38;5;66;03m# JVM exception message.\u001B[39;00m\n\u001B[0;32m--> 234\u001B[0m     \u001B[38;5;28;01mraise\u001B[39;00m converted \u001B[38;5;28;01mfrom\u001B[39;00m \u001B[38;5;28mNone\u001B[39m\n\u001B[1;32m    235\u001B[0m \u001B[38;5;28;01melse\u001B[39;00m:\n\u001B[1;32m    236\u001B[0m     \u001B[38;5;28;01mraise\u001B[39;00m\n\n\u001B[0;31mAnalysisException\u001B[0m: [UNRESOLVED_COLUMN.WITH_SUGGESTION] A column or function parameter with name `s`.`customer`.`id` cannot be resolved. Did you mean one of the following? [`s`.`customer_id`, `s`.`registration_date`, `s`.`registration_device`, `e`.`PK\u0003\u0004\u0014\u0000\b\u0000\b\u0000�zXY\u0000\u0000\u0000\u0000\u0000\u0000\u0000\u0000�ը\\\u000F\u0000 \u0000engagements.csvUT`].; line 5 pos 27;\n'Aggregate ['s.customer_id], ['s.customer_id, 'count(distinct 'e.event_type) AS engagement_count#3875]\n+- 'Filter (('e.event_timestamp >= 's.registration_date) AND ('e.event_timestamp <= 'date_add('s.registration_date, INTERVAL '6' MONTH)))\n   +- 'Join LeftOuter, ('s.customer.id = 'e.customer_id)\n      :- SubqueryAlias s\n      :  +- SubqueryAlias shoppers\n      :     +- View (`shoppers`, [customer_id#3116L,registration_date#3117,registration_device#3118])\n      :        +- Relation [customer_id#3116L,registration_date#3117,registration_device#3118] csv\n      +- SubqueryAlias e\n         +- SubqueryAlias engagements\n            +- View (`engagements`, [PK\u0003\u0004\u0014\u0000\b\u0000\b\u0000�zXY\u0000\u0000\u0000\u0000\u0000\u0000\u0000\u0000�ը\\\u000F\u0000 \u0000engagements.csvUT#3045])\n               +- Relation [PK\u0003\u0004\u0014\u0000\b\u0000\b\u0000�zXY\u0000\u0000\u0000\u0000\u0000\u0000\u0000\u0000�ը\\\u000F\u0000 \u0000engagements.csvUT#3045] csv\n",
       "errorSummary": "<span class='ansi-red-fg'>AnalysisException</span>: [UNRESOLVED_COLUMN.WITH_SUGGESTION] A column or function parameter with name `s`.`customer`.`id` cannot be resolved. Did you mean one of the following? [`s`.`customer_id`, `s`.`registration_date`, `s`.`registration_device`, `e`.`PK\u0003\u0004\u0014\u0000\b\u0000\b\u0000�zXY\u0000\u0000\u0000\u0000\u0000\u0000\u0000\u0000�ը\\\u000F\u0000 \u0000engagements.csvUT`].; line 5 pos 27;\n'Aggregate ['s.customer_id], ['s.customer_id, 'count(distinct 'e.event_type) AS engagement_count#3875]\n+- 'Filter (('e.event_timestamp >= 's.registration_date) AND ('e.event_timestamp <= 'date_add('s.registration_date, INTERVAL '6' MONTH)))\n   +- 'Join LeftOuter, ('s.customer.id = 'e.customer_id)\n      :- SubqueryAlias s\n      :  +- SubqueryAlias shoppers\n      :     +- View (`shoppers`, [customer_id#3116L,registration_date#3117,registration_device#3118])\n      :        +- Relation [customer_id#3116L,registration_date#3117,registration_device#3118] csv\n      +- SubqueryAlias e\n         +- SubqueryAlias engagements\n            +- View (`engagements`, [PK\u0003\u0004\u0014\u0000\b\u0000\b\u0000�zXY\u0000\u0000\u0000\u0000\u0000\u0000\u0000\u0000�ը\\\u000F\u0000 \u0000engagements.csvUT#3045])\n               +- Relation [PK\u0003\u0004\u0014\u0000\b\u0000\b\u0000�zXY\u0000\u0000\u0000\u0000\u0000\u0000\u0000\u0000�ը\\\u000F\u0000 \u0000engagements.csvUT#3045] csv\n",
       "errorTraceType": "ansi",
       "metadata": {},
       "type": "ipynbError"
      }
     },
     "output_type": "display_data"
    }
   ],
   "source": [
    "%sql\n",
    "-- since Shoppers table contains 'customer_id' instead of 'shopper_id' we update accordingly\n",
    "\n",
    "select s.customer_id, count(distinct e.event_type) as engagement_count\n",
    "from shoppers s\n",
    "left join engagements e on s.customer.id = e.customer_id\n",
    "where e.event_timestamp between s.registration_date and date_add(s.registration_date, INTERVAL 6 MONTH)\n",
    "group by s.customer_id;"
   ]
  },
  {
   "cell_type": "code",
   "execution_count": 0,
   "metadata": {
    "application/vnd.databricks.v1+cell": {
     "cellMetadata": {
      "byteLimit": 2048000,
      "rowLimit": 10000
     },
     "inputWidgets": {},
     "nuid": "3e22e4fd-5a24-47a2-8541-0468174ff04d",
     "showTitle": false,
     "tableResultSettingsMap": {},
     "title": ""
    }
   },
   "outputs": [
    {
     "output_type": "stream",
     "name": "stdout",
     "output_type": "stream",
     "text": [
      "root\n |-- PK\u0003\u0004\u0014\u0000\\b\u0000\\b\u0000�zXY\u0000\u0000\u0000\u0000\u0000\u0000\u0000\u0000�ը\\\u000F\u0000 \u0000engagements.csvUT: string (nullable = true)\n\n+------------------------------------------------+\n|PK\u0003\u0004\u0014\u0000\\b\u0000\\b\u0000�zXY\u0000\u0000\u0000\u0000\u0000\u0000\u0000\u0000�ը\\\u000F\u0000 \u0000engagements.csvUT|\n+------------------------------------------------+\n|                            \u0000\\a��\u001Ag��\u001Ag��\u001Agux...|\n|                            1��\u001C�\u0016���'�R�\u001E9c...|\n|                            �\\ݑ\u0018:��V}�)�1�vF�...|\n|                                        ����P<�\u0002|\n|                            ���@-Nt!��9`\\f+��...|\n+------------------------------------------------+\nonly showing top 5 rows\n\n"
     ]
    }
   ],
   "source": [
    "# Check / Verify Engagements Table Columns\n",
    "engagements_df.printSchema()\n",
    "engagements_df.show(5)"
   ]
  },
  {
   "cell_type": "code",
   "execution_count": 0,
   "metadata": {
    "application/vnd.databricks.v1+cell": {
     "cellMetadata": {
      "byteLimit": 2048000,
      "rowLimit": 10000
     },
     "inputWidgets": {},
     "nuid": "4e6f0c88-6205-452b-9191-0a3a512a96c6",
     "showTitle": false,
     "tableResultSettingsMap": {},
     "title": ""
    }
   },
   "outputs": [
    {
     "output_type": "stream",
     "name": "stdout",
     "output_type": "stream",
     "text": [
      "root\n |-- customer_id: long (nullable = true)\n |-- registration_date: date (nullable = true)\n |-- registration_device: string (nullable = true)\n\n+-------------------+-----------------+-------------------+\n|        customer_id|registration_date|registration_device|\n+-------------------+-----------------+-------------------+\n|6489927405216326396|       2018-01-01|                ios|\n|3161625024140501939|       2018-01-01|                ios|\n| 207638738633219587|       2018-01-01|                ios|\n|3789491988850699117|       2018-01-03|                ios|\n| 896562973335837221|       2018-01-03|                ios|\n+-------------------+-----------------+-------------------+\nonly showing top 5 rows\n\n"
     ]
    }
   ],
   "source": [
    "# Check / Verify Shoppers Table Columns\n",
    "shoppers_df.printSchema()\n",
    "shoppers_df.show(5)"
   ]
  },
  {
   "cell_type": "code",
   "execution_count": 0,
   "metadata": {
    "application/vnd.databricks.v1+cell": {
     "cellMetadata": {
      "byteLimit": 2048000,
      "rowLimit": 10000
     },
     "inputWidgets": {},
     "nuid": "6ad04eb0-ee07-44d5-9ac1-29f8c7d16fb6",
     "showTitle": false,
     "tableResultSettingsMap": {},
     "title": ""
    }
   },
   "outputs": [
    {
     "output_type": "display_data",
     "data": {
      "text/html": [
       "<style scoped>\n",
       "  .table-result-container {\n",
       "    max-height: 300px;\n",
       "    overflow: auto;\n",
       "  }\n",
       "  table, th, td {\n",
       "    border: 1px solid black;\n",
       "    border-collapse: collapse;\n",
       "  }\n",
       "  th, td {\n",
       "    padding: 5px;\n",
       "  }\n",
       "  th {\n",
       "    text-align: left;\n",
       "  }\n",
       "</style><div class='table-result-container'><table class='table-result'><thead style='background-color: white'><tr><th>path</th><th>name</th><th>size</th><th>modificationTime</th></tr></thead><tbody><tr><td>dbfs:/FileStore/tables/engagements_csv.zip</td><td>engagements_csv.zip</td><td>509212192</td><td>1741018054000</td></tr><tr><td>dbfs:/FileStore/tables/offers-1.csv</td><td>offers-1.csv</td><td>1761202</td><td>1741015687000</td></tr><tr><td>dbfs:/FileStore/tables/offers.csv</td><td>offers.csv</td><td>1761202</td><td>1741014507000</td></tr><tr><td>dbfs:/FileStore/tables/shopper_offers-1.csv</td><td>shopper_offers-1.csv</td><td>28568462</td><td>1741015732000</td></tr><tr><td>dbfs:/FileStore/tables/shopper_offers.csv</td><td>shopper_offers.csv</td><td>28568462</td><td>1741014524000</td></tr><tr><td>dbfs:/FileStore/tables/shoppers-1.csv</td><td>shoppers-1.csv</td><td>867248</td><td>1741015750000</td></tr><tr><td>dbfs:/FileStore/tables/shoppers.csv</td><td>shoppers.csv</td><td>867248</td><td>1741014509000</td></tr></tbody></table></div>"
      ]
     },
     "metadata": {
      "application/vnd.databricks.v1+output": {
       "addedWidgets": {},
       "aggData": [],
       "aggError": "",
       "aggOverflow": false,
       "aggSchema": [],
       "aggSeriesLimitReached": false,
       "aggType": "",
       "arguments": {},
       "columnCustomDisplayInfos": {},
       "data": [
        [
         "dbfs:/FileStore/tables/engagements_csv.zip",
         "engagements_csv.zip",
         509212192,
         1741018054000
        ],
        [
         "dbfs:/FileStore/tables/offers-1.csv",
         "offers-1.csv",
         1761202,
         1741015687000
        ],
        [
         "dbfs:/FileStore/tables/offers.csv",
         "offers.csv",
         1761202,
         1741014507000
        ],
        [
         "dbfs:/FileStore/tables/shopper_offers-1.csv",
         "shopper_offers-1.csv",
         28568462,
         1741015732000
        ],
        [
         "dbfs:/FileStore/tables/shopper_offers.csv",
         "shopper_offers.csv",
         28568462,
         1741014524000
        ],
        [
         "dbfs:/FileStore/tables/shoppers-1.csv",
         "shoppers-1.csv",
         867248,
         1741015750000
        ],
        [
         "dbfs:/FileStore/tables/shoppers.csv",
         "shoppers.csv",
         867248,
         1741014509000
        ]
       ],
       "datasetInfos": [],
       "dbfsResultPath": null,
       "isJsonSchema": true,
       "metadata": {},
       "overflow": false,
       "plotOptions": {
        "customPlotOptions": {},
        "displayType": "table",
        "pivotAggregation": null,
        "pivotColumns": null,
        "xColumns": null,
        "yColumns": null
       },
       "removedWidgets": [],
       "schema": [
        {
         "metadata": "{}",
         "name": "path",
         "type": "\"string\""
        },
        {
         "metadata": "{}",
         "name": "name",
         "type": "\"string\""
        },
        {
         "metadata": "{}",
         "name": "size",
         "type": "\"long\""
        },
        {
         "metadata": "{}",
         "name": "modificationTime",
         "type": "\"long\""
        }
       ],
       "type": "table"
      }
     },
     "output_type": "display_data"
    }
   ],
   "source": [
    "# Verify that Engagements file is still zipped.\n",
    "display(dbutils.fs.ls(\"dbfs:/FileStore/tables/\"))"
   ]
  },
  {
   "cell_type": "markdown",
   "metadata": {
    "application/vnd.databricks.v1+cell": {
     "cellMetadata": {
      "byteLimit": 2048000,
      "rowLimit": 10000
     },
     "inputWidgets": {},
     "nuid": "08d5fb50-9171-407f-a780-31e26bce4c2d",
     "showTitle": false,
     "tableResultSettingsMap": {},
     "title": ""
    }
   },
   "source": [
    "import zipfile\n",
    "\n",
    "#### Define paths\n",
    "zip_file_path = \"/dbfs/FileStore/tables/engagements_csv.zip\"  # Path to ZIP file\n",
    "extract_to = \"/dbfs/tmp/\"  # Extract location\n",
    "\n",
    "#### Extract ZIP file\n",
    "with zipfile.ZipFile(\"/dbfs\" + zip_file_path[4:], \"r\") as z:\n",
    "    z.extractall(extract_to)  # Extract contents to tmp folder\n",
    "\n",
    "#### List extracted files\n",
    "display(dbutils.fs.ls(\"dbfs:/tmp/\"))"
   ]
  },
  {
   "cell_type": "code",
   "execution_count": 0,
   "metadata": {
    "application/vnd.databricks.v1+cell": {
     "cellMetadata": {
      "byteLimit": 2048000,
      "rowLimit": 10000
     },
     "collapsed": true,
     "inputWidgets": {},
     "nuid": "0be349eb-2110-4505-8ef6-2c3c6029bfc4",
     "showTitle": false,
     "tableResultSettingsMap": {},
     "title": ""
    }
   },
   "outputs": [
    {
     "output_type": "stream",
     "name": "stdout",
     "output_type": "stream",
     "text": [
      "Python interpreter will be restarted.\nCollecting gdown\n  Downloading gdown-5.2.0-py3-none-any.whl (18 kB)\nRequirement already satisfied: requests[socks] in /databricks/python3/lib/python3.9/site-packages (from gdown) (2.27.1)\nRequirement already satisfied: beautifulsoup4 in /databricks/python3/lib/python3.9/site-packages (from gdown) (4.11.1)\nRequirement already satisfied: filelock in /usr/local/lib/python3.9/dist-packages (from gdown) (3.9.0)\nCollecting tqdm\n  Downloading tqdm-4.67.1-py3-none-any.whl (78 kB)\nRequirement already satisfied: soupsieve>1.2 in /databricks/python3/lib/python3.9/site-packages (from beautifulsoup4->gdown) (2.3.1)\nRequirement already satisfied: charset-normalizer~=2.0.0 in /databricks/python3/lib/python3.9/site-packages (from requests[socks]->gdown) (2.0.4)\nRequirement already satisfied: idna<4,>=2.5 in /databricks/python3/lib/python3.9/site-packages (from requests[socks]->gdown) (3.3)\nRequirement already satisfied: certifi>=2017.4.17 in /databricks/python3/lib/python3.9/site-packages (from requests[socks]->gdown) (2021.10.8)\nRequirement already satisfied: urllib3<1.27,>=1.21.1 in /databricks/python3/lib/python3.9/site-packages (from requests[socks]->gdown) (1.26.9)\nCollecting PySocks!=1.5.7,>=1.5.6\n  Downloading PySocks-1.7.1-py3-none-any.whl (16 kB)\nInstalling collected packages: PySocks, tqdm, gdown\nSuccessfully installed PySocks-1.7.1 gdown-5.2.0 tqdm-4.67.1\nPython interpreter will be restarted.\n"
     ]
    }
   ],
   "source": [
    "%pip install gdown"
   ]
  },
  {
   "cell_type": "code",
   "execution_count": 0,
   "metadata": {
    "application/vnd.databricks.v1+cell": {
     "cellMetadata": {},
     "inputWidgets": {},
     "nuid": "eaf6caf1-ca45-4735-b543-bcd74835d793",
     "showTitle": false,
     "tableResultSettingsMap": {},
     "title": ""
    }
   },
   "outputs": [],
   "source": []
  }
 ],
 "metadata": {
  "application/vnd.databricks.v1+notebook": {
   "computePreferences": null,
   "dashboards": [],
   "environmentMetadata": {
    "base_environment": "",
    "client": "1"
   },
   "language": "python",
   "notebookMetadata": {
    "mostRecentlyExecutedCommandWithImplicitDF": {
     "commandId": 3915224358482290,
     "dataframes": [
      "_sqldf"
     ]
    },
    "pythonIndentUnit": 4
   },
   "notebookName": "Cashback User Behaviour",
   "widgets": {}
  }
 },
 "nbformat": 4,
 "nbformat_minor": 0
}
