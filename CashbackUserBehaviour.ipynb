{
 "cells": [
  {
   "cell_type": "code",
   "execution_count": 2,
   "id": "5690e2d3-b6ad-4f19-ac34-ad24f7874512",
   "metadata": {},
   "outputs": [
    {
     "name": "stdout",
     "output_type": "stream",
     "text": [
      "Requirement already satisfied: gdown in c:\\users\\annmo\\new folder\\lib\\site-packages (5.2.0)\n",
      "Requirement already satisfied: pandas in c:\\users\\annmo\\new folder\\lib\\site-packages (2.2.2)\n",
      "Requirement already satisfied: beautifulsoup4 in c:\\users\\annmo\\new folder\\lib\\site-packages (from gdown) (4.12.3)\n",
      "Requirement already satisfied: filelock in c:\\users\\annmo\\new folder\\lib\\site-packages (from gdown) (3.13.1)\n",
      "Requirement already satisfied: requests[socks] in c:\\users\\annmo\\new folder\\lib\\site-packages (from gdown) (2.32.3)\n",
      "Requirement already satisfied: tqdm in c:\\users\\annmo\\new folder\\lib\\site-packages (from gdown) (4.66.5)\n",
      "Requirement already satisfied: numpy>=1.26.0 in c:\\users\\annmo\\new folder\\lib\\site-packages (from pandas) (1.26.4)\n",
      "Requirement already satisfied: python-dateutil>=2.8.2 in c:\\users\\annmo\\new folder\\lib\\site-packages (from pandas) (2.9.0.post0)\n",
      "Requirement already satisfied: pytz>=2020.1 in c:\\users\\annmo\\new folder\\lib\\site-packages (from pandas) (2024.1)\n",
      "Requirement already satisfied: tzdata>=2022.7 in c:\\users\\annmo\\new folder\\lib\\site-packages (from pandas) (2023.3)\n",
      "Requirement already satisfied: six>=1.5 in c:\\users\\annmo\\new folder\\lib\\site-packages (from python-dateutil>=2.8.2->pandas) (1.16.0)\n",
      "Requirement already satisfied: soupsieve>1.2 in c:\\users\\annmo\\new folder\\lib\\site-packages (from beautifulsoup4->gdown) (2.5)\n",
      "Requirement already satisfied: charset-normalizer<4,>=2 in c:\\users\\annmo\\new folder\\lib\\site-packages (from requests[socks]->gdown) (3.3.2)\n",
      "Requirement already satisfied: idna<4,>=2.5 in c:\\users\\annmo\\new folder\\lib\\site-packages (from requests[socks]->gdown) (3.7)\n",
      "Requirement already satisfied: urllib3<3,>=1.21.1 in c:\\users\\annmo\\new folder\\lib\\site-packages (from requests[socks]->gdown) (2.2.3)\n",
      "Requirement already satisfied: certifi>=2017.4.17 in c:\\users\\annmo\\new folder\\lib\\site-packages (from requests[socks]->gdown) (2024.8.30)\n",
      "Requirement already satisfied: PySocks!=1.5.7,>=1.5.6 in c:\\users\\annmo\\new folder\\lib\\site-packages (from requests[socks]->gdown) (1.7.1)\n",
      "Requirement already satisfied: colorama in c:\\users\\annmo\\new folder\\lib\\site-packages (from tqdm->gdown) (0.4.6)\n"
     ]
    }
   ],
   "source": [
    "# Install required libraries\n",
    "\n",
    "# gdown to download from Google Drive\n",
    "!pip install gdown pandas\n",
    "import pandas as pd\n",
    "\n",
    "import matplotlib.pyplot as plt\n",
    "import seaborn as sns\n",
    "from datetime import timedelta"
   ]
  },
  {
   "cell_type": "code",
   "execution_count": 4,
   "id": "15f0c926-7ac7-4c77-bf01-21fe96ad421a",
   "metadata": {},
   "outputs": [
    {
     "name": "stderr",
     "output_type": "stream",
     "text": [
      "Downloading...\n",
      "From (original): https://drive.google.com/uc?export=download&id=1t7Vfus51OfpuZezfCiie3GxJWogeBOEN\n",
      "From (redirected): https://drive.google.com/uc?export=download&id=1t7Vfus51OfpuZezfCiie3GxJWogeBOEN&confirm=t&uuid=b6b53444-e0ec-4d4b-8e63-2b23a1139969\n",
      "To: C:\\Users\\annmo\\engagements.csv\n",
      "100%|██████████| 1.55G/1.55G [02:21<00:00, 11.0MB/s]\n",
      "Downloading...\n",
      "From: https://drive.google.com/uc?export=download&id=1PkGYhOXo1LUpDVneCH49xdBhi45ndFOg\n",
      "To: C:\\Users\\annmo\\offers.csv\n",
      "100%|██████████| 1.76M/1.76M [00:00<00:00, 9.52MB/s]\n",
      "Downloading...\n",
      "From: https://drive.google.com/uc?export=download&id=1WtYIPhB8VCHbKzH2Ua-gMgBfPdeuWmC5\n",
      "To: C:\\Users\\annmo\\shoppers.csv\n",
      "100%|██████████| 28.6M/28.6M [00:03<00:00, 9.48MB/s]\n",
      "Downloading...\n",
      "From: https://drive.google.com/uc?export=download&id=1dXFDHvUrAu7ewUuT3CcHXWmmJHdbwWAo\n",
      "To: C:\\Users\\annmo\\shopper_offers.csv\n",
      "100%|██████████| 867k/867k [00:00<00:00, 6.96MB/s]\n"
     ]
    }
   ],
   "source": [
    "# Mount Google Drive\n",
    "import gdown\n",
    "\n",
    "# Google Drive file IDs\n",
    "file_ids = {\n",
    "      'engagements.csv': '1t7Vfus51OfpuZezfCiie3GxJWogeBOEN',\n",
    "    'offers.csv': '1PkGYhOXo1LUpDVneCH49xdBhi45ndFOg',\n",
    "    'shoppers.csv': '1WtYIPhB8VCHbKzH2Ua-gMgBfPdeuWmC5',\n",
    "    'shopper_offers.csv': '1dXFDHvUrAu7ewUuT3CcHXWmmJHdbwWAo'\n",
    "}\n",
    "\n",
    "# Download each file from Google Drive\n",
    "for file_name, file_id in file_ids.items():\n",
    "    gdown.download(f\"https://drive.google.com/uc?export=download&id={file_id}\", file_name, quiet=False)"
   ]
  },
  {
   "cell_type": "code",
   "execution_count": 6,
   "id": "a5fdbf1f-4222-4430-a674-9713e9213ae0",
   "metadata": {},
   "outputs": [],
   "source": [
    "# Use pandas load from local directory\n",
    "\n",
    "# Load each dataset into a DataFrame\n",
    "df_engagements = pd.read_csv('engagements.csv')\n",
    "df_offers = pd.read_csv('offers.csv')\n",
    "df_shoppers = pd.read_csv('shoppers.csv')\n",
    "df_shopper_offers = pd.read_csv('shopper_offers.csv')"
   ]
  },
  {
   "cell_type": "markdown",
   "id": "0132cd34-36ac-4ef6-be14-9dff67c3245a",
   "metadata": {},
   "source": [
    "#### Check the first few rows of Engagement to verify."
   ]
  },
  {
   "cell_type": "code",
   "execution_count": 8,
   "id": "a4be4b9a-a076-426c-860b-dcf8c31cfbc5",
   "metadata": {},
   "outputs": [
    {
     "name": "stdout",
     "output_type": "stream",
     "text": [
      "           customer_id                  event_at     session_id  \\\n",
      "0  5575213270773413439  2018-06-28T17:28:56.000Z  1687973336543   \n",
      "1   739032412120568133  2019-02-08T07:00:06.000Z  1707375606019   \n",
      "2  5426322198040239451  2018-05-12T15:48:59.000Z  1683906539465   \n",
      "3  4061361991372515010  2018-08-11T19:13:25.000Z  1691781204997   \n",
      "4  3373951929962993739  2019-01-13T17:43:12.000Z  1705167792238   \n",
      "\n",
      "      event_type  retailer_id  offer_id  \n",
      "0  session_start          NaN       NaN  \n",
      "1  session_start          NaN       NaN  \n",
      "2  session_start          NaN       NaN  \n",
      "3  session_start          NaN       NaN  \n",
      "4  session_start          NaN       NaN  \n"
     ]
    }
   ],
   "source": [
    "# Engagements\n",
    "print(df_engagements.head())"
   ]
  },
  {
   "cell_type": "code",
   "execution_count": 248,
   "id": "01782c29-58fc-41fe-aa5e-d6f689f61f1a",
   "metadata": {},
   "outputs": [
    {
     "name": "stdout",
     "output_type": "stream",
     "text": [
      "   offer_id  reward_amount            offer_type\n",
      "0   1015709            1.0     OfferReward::Fact\n",
      "1   1023161            2.0  OfferReward::Instant\n",
      "2   1024683            2.0     OfferReward::Fact\n",
      "3   1024711            2.0     OfferReward::Fact\n",
      "4   1030046            1.0  OfferReward::Instant\n"
     ]
    }
   ],
   "source": [
    "# Offers\n",
    "print(df_offers.head())"
   ]
  },
  {
   "cell_type": "code",
   "execution_count": 20,
   "id": "32918d0d-09d6-4204-beb5-f44209634fb1",
   "metadata": {},
   "outputs": [
    {
     "name": "stdout",
     "output_type": "stream",
     "text": [
      "           customer_id registration_date registration_device\n",
      "0  6489927405216326396        2018-01-01                 ios\n",
      "1  3161625024140501939        2018-01-01                 ios\n",
      "2   207638738633219587        2018-01-01                 ios\n",
      "3  3789491988850699117        2018-01-03                 ios\n",
      "4   896562973335837221        2018-01-03                 ios\n"
     ]
    }
   ],
   "source": [
    "# Shopper Offers\n",
    "print(df_shopper_offers.head())"
   ]
  },
  {
   "cell_type": "code",
   "execution_count": 23,
   "id": "0a76ab4c-9c6a-4049-976a-dbc2eba07415",
   "metadata": {},
   "outputs": [
    {
     "name": "stdout",
     "output_type": "stream",
     "text": [
      "           customer_id             date_verified  retailer_id  offer_id  \\\n",
      "0  2393496587589073165  2018-04-28T21:55:39.000Z         32.0   1278627   \n",
      "1  7213892974194484858  2018-03-08T21:26:52.000Z          4.0   1224026   \n",
      "2  1531082007435697684  2018-04-28T20:23:46.000Z          9.0   1263179   \n",
      "3  1531082007435697684  2018-06-25T02:42:44.000Z       1408.0   1321491   \n",
      "4  2464622852289673103  2018-06-29T05:47:31.000Z         12.0   1298744   \n",
      "\n",
      "                      receipt_id  redemption_count  \n",
      "0                     1446779487                 1  \n",
      "1                     1411515095                 1  \n",
      "2                     1446708239                 1  \n",
      "3  200010916620679|1687660627894                 1  \n",
      "4                     1490601205                 1  \n"
     ]
    }
   ],
   "source": [
    "# Shoppers\n",
    "print(df_shoppers.head())"
   ]
  },
  {
   "cell_type": "code",
   "execution_count": 26,
   "id": "c80aaea2-3295-4e02-9e20-4e943804afff",
   "metadata": {},
   "outputs": [
    {
     "name": "stdout",
     "output_type": "stream",
     "text": [
      "<class 'pandas.core.frame.DataFrame'>\n",
      "RangeIndex: 19084793 entries, 0 to 19084792\n",
      "Data columns (total 6 columns):\n",
      " #   Column       Dtype  \n",
      "---  ------       -----  \n",
      " 0   customer_id  int64  \n",
      " 1   event_at     object \n",
      " 2   session_id   int64  \n",
      " 3   event_type   object \n",
      " 4   retailer_id  float64\n",
      " 5   offer_id     float64\n",
      "dtypes: float64(2), int64(2), object(2)\n",
      "memory usage: 873.6+ MB\n",
      "None\n",
      "<class 'pandas.core.frame.DataFrame'>\n",
      "RangeIndex: 53098 entries, 0 to 53097\n",
      "Data columns (total 3 columns):\n",
      " #   Column         Non-Null Count  Dtype  \n",
      "---  ------         --------------  -----  \n",
      " 0   offer_id       53098 non-null  int64  \n",
      " 1   reward_amount  53098 non-null  float64\n",
      " 2   offer_type     53098 non-null  object \n",
      "dtypes: float64(1), int64(1), object(1)\n",
      "memory usage: 1.2+ MB\n",
      "None\n",
      "<class 'pandas.core.frame.DataFrame'>\n",
      "RangeIndex: 413636 entries, 0 to 413635\n",
      "Data columns (total 6 columns):\n",
      " #   Column            Non-Null Count   Dtype  \n",
      "---  ------            --------------   -----  \n",
      " 0   customer_id       413636 non-null  int64  \n",
      " 1   date_verified     413636 non-null  object \n",
      " 2   retailer_id       413634 non-null  float64\n",
      " 3   offer_id          413636 non-null  int64  \n",
      " 4   receipt_id        413634 non-null  object \n",
      " 5   redemption_count  413636 non-null  int64  \n",
      "dtypes: float64(1), int64(3), object(2)\n",
      "memory usage: 18.9+ MB\n",
      "None\n",
      "<class 'pandas.core.frame.DataFrame'>\n",
      "RangeIndex: 24118 entries, 0 to 24117\n",
      "Data columns (total 3 columns):\n",
      " #   Column               Non-Null Count  Dtype \n",
      "---  ------               --------------  ----- \n",
      " 0   customer_id          24118 non-null  int64 \n",
      " 1   registration_date    24118 non-null  object\n",
      " 2   registration_device  22694 non-null  object\n",
      "dtypes: int64(1), object(2)\n",
      "memory usage: 565.4+ KB\n",
      "None\n"
     ]
    }
   ],
   "source": [
    "# Display basic info about each dataset to understand its structure\n",
    "print(df_engagements.info())\n",
    "print(df_offers.info())\n",
    "print(df_shoppers.info())\n",
    "print(df_shopper_offers.info())"
   ]
  },
  {
   "cell_type": "markdown",
   "id": "b20304d9-4951-4f8c-89e2-80eb25d314ea",
   "metadata": {},
   "source": [
    "- Preprocess & Clean the Data"
   ]
  },
  {
   "cell_type": "code",
   "execution_count": 44,
   "id": "6fa4c77f-89e8-4fcc-b3b2-24c026b3a3ea",
   "metadata": {},
   "outputs": [
    {
     "data": {
      "text/plain": [
       "customer_id           0\n",
       "event_at              0\n",
       "session_id            0\n",
       "event_type            0\n",
       "retailer_id    10466766\n",
       "offer_id       15114463\n",
       "dtype: int64"
      ]
     },
     "execution_count": 44,
     "metadata": {},
     "output_type": "execute_result"
    }
   ],
   "source": [
    "# Check for missing values:\n",
    "df_engagements.isnull().sum()"
   ]
  },
  {
   "cell_type": "code",
   "execution_count": 47,
   "id": "ec1b87cf-3049-42d6-aa6f-be86302500a3",
   "metadata": {},
   "outputs": [
    {
     "data": {
      "text/plain": [
       "offer_id         0\n",
       "reward_amount    0\n",
       "offer_type       0\n",
       "dtype: int64"
      ]
     },
     "execution_count": 47,
     "metadata": {},
     "output_type": "execute_result"
    }
   ],
   "source": [
    "# Check for missing values:\n",
    "df_offers.isnull().sum()"
   ]
  },
  {
   "cell_type": "code",
   "execution_count": 49,
   "id": "077ada45-de0e-4727-a29a-0b621676accd",
   "metadata": {},
   "outputs": [
    {
     "data": {
      "text/plain": [
       "customer_id               0\n",
       "registration_date         0\n",
       "registration_device    1424\n",
       "dtype: int64"
      ]
     },
     "execution_count": 49,
     "metadata": {},
     "output_type": "execute_result"
    }
   ],
   "source": [
    "# Check for missing values:\n",
    "df_shopper_offers.isnull().sum()"
   ]
  },
  {
   "cell_type": "code",
   "execution_count": 51,
   "id": "0efa62ca-b434-454f-821e-dc00b79a8fcb",
   "metadata": {},
   "outputs": [
    {
     "data": {
      "text/plain": [
       "customer_id         0\n",
       "date_verified       0\n",
       "retailer_id         2\n",
       "offer_id            0\n",
       "receipt_id          2\n",
       "redemption_count    0\n",
       "dtype: int64"
      ]
     },
     "execution_count": 51,
     "metadata": {},
     "output_type": "execute_result"
    }
   ],
   "source": [
    "# Check for missing values:\n",
    "df_shoppers.isnull().sum()"
   ]
  },
  {
   "cell_type": "markdown",
   "id": "529b470b-1c6d-489f-9436-8d7de7b46a4f",
   "metadata": {},
   "source": [
    "### Part 1: SQL Data Analysis"
   ]
  },
  {
   "cell_type": "markdown",
   "id": "657c811c-b129-4c14-b35c-02be79b3cce5",
   "metadata": {},
   "source": [
    "- Exploratory Data Analysis"
   ]
  },
  {
   "cell_type": "code",
   "execution_count": 74,
   "id": "c3d6054b-a124-4930-9ab4-1759babd993b",
   "metadata": {},
   "outputs": [
    {
     "data": {
      "text/plain": [
       "413636"
      ]
     },
     "execution_count": 74,
     "metadata": {},
     "output_type": "execute_result"
    }
   ],
   "source": [
    "# Create SQLite database in memory:\n",
    "\n",
    "import sqlite3\n",
    "\n",
    "# Create a connection to an in-memory SQLite database\n",
    "conn = sqlite3.connect(\":memory:\")\n",
    "\n",
    "# Load the dataframes into SQLite tables\n",
    "df_engagements.to_sql('engagements', conn, index= False, if_exists='replace')\n",
    "df_offers.to_sql('offers', conn, index= False, if_exists='replace')\n",
    "df_shopper_offers.to_sql('shopper_offers', conn, index= False, if_exists='replace')\n",
    "df_shoppers.to_sql('shoppers', conn, index= False, if_exists='replace')"
   ]
  },
  {
   "cell_type": "markdown",
   "id": "abc1eb56-a70d-4aad-b00e-5fe067da2d90",
   "metadata": {},
   "source": [
    "Question 1. Top 10 most redeemed offers."
   ]
  },
  {
   "cell_type": "code",
   "execution_count": 224,
   "id": "2b7440a7-4695-47c7-830d-309a61a42911",
   "metadata": {},
   "outputs": [
    {
     "name": "stdout",
     "output_type": "stream",
     "text": [
      "           customer_id             date_verified  retailer_id  offer_id  \\\n",
      "0  2393496587589073165  2018-04-28T21:55:39.000Z         32.0   1278627   \n",
      "1  7213892974194484858  2018-03-08T21:26:52.000Z          4.0   1224026   \n",
      "2  1531082007435697684  2018-04-28T20:23:46.000Z          9.0   1263179   \n",
      "3  1531082007435697684  2018-06-25T02:42:44.000Z       1408.0   1321491   \n",
      "4  2464622852289673103  2018-06-29T05:47:31.000Z         12.0   1298744   \n",
      "\n",
      "                      receipt_id  redemption_count registration_date  \\\n",
      "0                     1446779487                 1        2018-01-01   \n",
      "1                     1411515095                 1        2018-01-01   \n",
      "2                     1446708239                 1        2018-01-01   \n",
      "3  200010916620679|1687660627894                 1        2018-01-01   \n",
      "4                     1490601205                 1        2018-01-01   \n",
      "\n",
      "  registration_device  year  month  \n",
      "0                 ios  2018      1  \n",
      "1             android  2018      1  \n",
      "2                 ios  2018      1  \n",
      "3                 ios  2018      1  \n",
      "4                 ios  2018      1  \n"
     ]
    }
   ],
   "source": [
    "# Merge the datasets first\n",
    "merged_df = pd.merge(df_shoppers, df_shopper_offers, on='customer_id', how='left')#'merged_df' instead of 'df_shoppers'\n",
    "\n",
    "# Convert 'registration_date' to datetime and extract year, month\n",
    "merged_df['registration_date'] = pd.to_datetime(merged_df['registration_date'])\n",
    "\n",
    "# Extract year and month from the 'registration_date'\n",
    "merged_df['year'] = merged_df['registration_date'].dt.year\n",
    "merged_df['month'] = merged_df['registration_date'].dt.month\n",
    "\n",
    "print(merged_df.head())  # To check the changes"
   ]
  },
  {
   "cell_type": "code",
   "execution_count": 226,
   "id": "e1853cad-ffe2-496c-b46e-a8d809cfcf0e",
   "metadata": {},
   "outputs": [
    {
     "name": "stdout",
     "output_type": "stream",
     "text": [
      "    Year  Month  Unique Shoppers\n",
      "0   2018      1             1498\n",
      "1   2018      2             1188\n",
      "2   2018      3             1153\n",
      "3   2018      4             1080\n",
      "4   2018      5             1098\n",
      "5   2018      6             1354\n",
      "6   2018      7             1308\n",
      "7   2018      8             1461\n",
      "8   2018      9             1749\n",
      "9   2018     10             1063\n",
      "10  2018     11             1225\n",
      "11  2018     12              689\n"
     ]
    }
   ],
   "source": [
    "# Ensure that 'registration_date' is already in datetime format and we have 'year' and 'month' columns\n",
    "merged_df['registration_date'] = pd.to_datetime(merged_df['registration_date'])\n",
    "\n",
    "# Group by the 'year' and 'month' columns and count the unique 'customer_id'\n",
    "monthly_registration_counts = merged_df.groupby(['year', 'month'])['customer_id'].nunique().reset_index()\n",
    "\n",
    "# Rename the columns for clarity\n",
    "monthly_registration_counts.columns = ['Year', 'Month', 'Unique Shoppers']\n",
    "\n",
    "print(monthly_registration_counts)"
   ]
  },
  {
   "cell_type": "code",
   "execution_count": 228,
   "id": "49350957-06b9-423b-a734-fe873ea89700",
   "metadata": {},
   "outputs": [
    {
     "name": "stdout",
     "output_type": "stream",
     "text": [
      "Total unique users: 14866\n"
     ]
    }
   ],
   "source": [
    "##UNIQUE shoppers\n",
    "total_unique_shoppers = merged_df['customer_id'].nunique()\n",
    "print(f\"Total unique users: {total_unique_shoppers}\")"
   ]
  },
  {
   "cell_type": "markdown",
   "id": "aa6559b1-a956-4013-ba4c-139cc120aa6c",
   "metadata": {},
   "source": [
    "Question 2: For every shopper, when was their most recent receipt verified? And what was the total reward amount for that trip?\""
   ]
  },
  {
   "cell_type": "code",
   "execution_count": 239,
   "id": "7508751a-7ce4-4a29-8add-8afc513aa4e4",
   "metadata": {},
   "outputs": [
    {
     "name": "stdout",
     "output_type": "stream",
     "text": [
      "               customer_id             date_verified  receipt_id  \\\n",
      "0         1813806853824876  2018-12-28T17:18:15.000Z  1628935176   \n",
      "1         3153068761323235  2018-03-19T21:50:36.000Z  1419025295   \n",
      "2         4497177129341226  2018-12-11T15:50:08.000Z  1614637828   \n",
      "3         5059646572489451  2019-04-30T16:53:59.000Z  1719450952   \n",
      "4         5705063703289200  2018-08-20T20:09:15.000Z  1528403177   \n",
      "...                    ...                       ...         ...   \n",
      "14861  9221077024738794067  2019-02-26T22:33:39.000Z  1673137933   \n",
      "14862  9221649058463278509  2018-10-07T04:27:06.000Z  1562151939   \n",
      "14863  9222731243830076483  2018-07-31T02:09:08.000Z  1513441935   \n",
      "14864  9223331342555294558  2019-01-29T02:16:00.000Z  1652214931   \n",
      "14865  9223347182369824411  2018-12-10T08:45:20.000Z  1613758501   \n",
      "\n",
      "       reward_amount  \n",
      "0               6.00  \n",
      "1               0.10  \n",
      "2               0.65  \n",
      "3               0.50  \n",
      "4               0.75  \n",
      "...              ...  \n",
      "14861           1.00  \n",
      "14862           0.75  \n",
      "14863           0.25  \n",
      "14864           0.50  \n",
      "14865           0.25  \n",
      "\n",
      "[14866 rows x 4 columns]\n"
     ]
    }
   ],
   "source": [
    "\n",
    "# Find the most recent receipt for each shopper\n",
    "recent_receipt = merged_df.loc[merged_df.groupby('customer_id')['date_verified'].idxmax()]\n",
    "\n",
    "# Merge this information with the 'offers' table to get the reward amount\n",
    "recent_receipt_with_rewards = pd.merge(recent_receipt, df_offers[['offer_id', 'reward_amount']], on='offer_id', how='left')\n",
    "\n",
    "# Select the relevant columns: customer_id, date_verified, reward_amount\n",
    "recent_receipt_result = recent_receipt_with_rewards[['customer_id', 'date_verified', 'receipt_id', 'reward_amount']]\n",
    "\n",
    "print(recent_receipt_result)"
   ]
  },
  {
   "cell_type": "markdown",
   "id": "3f55d2d6-fa89-425e-a10a-77efe104d13f",
   "metadata": {},
   "source": [
    "Question 3. Who are the top 100 shoppers, as measured by total reward amount, having more than 10 offers?"
   ]
  },
  {
   "cell_type": "code",
   "execution_count": 250,
   "id": "65a047a0-d109-4260-9885-750b06bf7c1d",
   "metadata": {},
   "outputs": [
    {
     "data": {
      "text/plain": [
       "customer_id\n",
       "8059177926179689632    2527.41\n",
       "743512506440620017     2320.29\n",
       "9176216851948124035    1628.94\n",
       "5559000970910138119    1580.99\n",
       "4370936941752087389    1571.58\n",
       "                        ...   \n",
       "212948847607961170      551.25\n",
       "6407871784887279648     550.54\n",
       "7938735419108668011     547.74\n",
       "8168328634445318649     547.37\n",
       "2900949116359720545     541.00\n",
       "Name: reward_amount, Length: 100, dtype: float64"
      ]
     },
     "execution_count": 250,
     "metadata": {},
     "output_type": "execute_result"
    }
   ],
   "source": [
    "# Merge the filtered_df with the df_offers dataset to get the 'reward_amount'\n",
    "merged_with_rewards = pd.merge(filtered_df, df_offers[['offer_id', 'reward_amount']], on='offer_id', how='left')\n",
    "\n",
    "# Sum the total reward amount per shopper\n",
    "total_rewards = merged_with_rewards.groupby('customer_id')['reward_amount'].sum()\n",
    "\n",
    "# Sort shoppers by total reward amount in descending order\n",
    "top_shoppers = total_rewards.sort_values(ascending=False).head(100)\n",
    "\n",
    "# Display the top 100 shoppers\n",
    "top_shoppers"
   ]
  },
  {
   "cell_type": "markdown",
   "id": "7794dc48-f2d7-46f2-99cb-3813d3295102",
   "metadata": {},
   "source": [
    "Question 4. What is the average time (in days) between an offer unlock and an offer redemption/verification?"
   ]
  },
  {
   "cell_type": "code",
   "execution_count": 255,
   "id": "7fe6c192-fa0e-49bd-bdbc-f7773d8a0299",
   "metadata": {},
   "outputs": [
    {
     "data": {
      "text/plain": [
       "5.220319314566431"
      ]
     },
     "execution_count": 255,
     "metadata": {},
     "output_type": "execute_result"
    }
   ],
   "source": [
    "# Convert 'event_at' (offer unlock time) and 'date_verified' (redemption time) to datetime\n",
    "merged_shoppers_engagements['event_at'] = pd.to_datetime(merged_shoppers_engagements['event_at'])\n",
    "merged_shoppers_engagements['date_verified'] = pd.to_datetime(merged_shoppers_engagements['date_verified'])\n",
    "\n",
    "# Remove timezone information if any (make them tz-naive)\n",
    "merged_shoppers_engagements['event_at'] = merged_shoppers_engagements['event_at'].dt.tz_localize(None)\n",
    "merged_shoppers_engagements['date_verified'] = merged_shoppers_engagements['date_verified'].dt.tz_localize(None)\n",
    "\n",
    "# Calculate the time difference in days between the unlock time and redemption time\n",
    "merged_shoppers_engagements['time_diff'] = (merged_shoppers_engagements['date_verified'] - merged_shoppers_engagements['event_at']).dt.days\n",
    "\n",
    "# Calculate the average time difference (in days)\n",
    "average_time_diff = merged_shoppers_engagements['time_diff'].mean()\n",
    "\n",
    "# Display the result\n",
    "average_time_diff\n"
   ]
  },
  {
   "cell_type": "markdown",
   "id": "f597e563-a7ce-4d6c-8f4c-59bd6c7ea8f9",
   "metadata": {},
   "source": [
    "Question 5. Quantify the fallout at each step of the shopper conversion funnel (session → retailer view → unlock → redemption), for users who registered in August 2018. "
   ]
  },
  {
   "cell_type": "markdown",
   "id": "7812a028-ca3a-4fc2-91b2-1faddfb8efd6",
   "metadata": {},
   "source": [
    "----------\n",
    "Memory Error\n",
    "\n",
    "- Ensure registration_date is in datetime format\n",
    "df_shopper_offers['registration_date'] = pd.to_datetime(df_shopper_offers['registration_date'], errors='coerce')\n",
    "\n",
    "- Filter shoppers who registered in August 2018\n",
    "august_2018_shoppers = df_shopper_offers[df_shopper_offers['registration_date'].dt.month == 8]\n",
    "august_2018_shoppers = august_2018_shoppers[august_2018_shoppers['registration_date'].dt.year == 2018]\n",
    "\n",
    "- (funnel analysis) Merge with engagements to track session activity for these shoppers\n",
    "august_shoppers_engagements = pd.merge(august_2018_shoppers[['customer_id']], df_engagements, on='customer_id', how='left')\n",
    "\n",
    "- Calculate number of shoppers with sessions (Step 1)\n",
    "session_count = august_shoppers_engagements['session_id'].nunique()\n",
    "\n",
    "- Merge with the shoppers dataset to track retailer views\n",
    "august_shoppers_retailers = pd.merge(august_shoppers_engagements, df_shoppers[['customer_id', 'offer_id']], on='customer_id', how='left')\n",
    "retailer_view_count = august_shoppers_retailers['offer_id'].nunique()\n",
    "\n",
    "- Merge with the offers dataset to track unlocked offers\n",
    "august_shoppers_unlocks = pd.merge(august_shoppers_retailers, df_offers[['offer_id']], on='offer_id', how='left')\n",
    "unlock_count = august_shoppers_unlocks['offer_id'].nunique()\n",
    "\n",
    "- Merge with the shoppers dataset to track redemptions\n",
    "august_shoppers_redemptions = pd.merge(august_shoppers_unlocks, df_shoppers[['customer_id', 'receipt_id']], on='customer_id', how='left')\n",
    "redemption_count = august_shoppers_redemptions['receipt_id'].nunique()\n",
    "\n",
    "- Calculate fallout at each step\n",
    "total_shoppers = len(august_2018_shoppers)\n",
    "fallout_session = (total_shoppers - session_count) / total_shoppers * 100\n",
    "fallout_retailer_view = (session_count - retailer_view_count) / session_count * 100\n",
    "fallout_unlock = (retailer_view_count - unlock_count) / retailer_view_count * 100\n",
    "fallout_redemption = (unlock_count - redemption_count) / unlock_count * 100\n",
    "\n",
    "- results\n",
    "{\n",
    "    'Total Shoppers': total_shoppers,\n",
    "    'Session Count': session_count,\n",
    "    'Retailer View Count': retailer_view_count,\n",
    "    'Unlock Count': unlock_count,\n",
    "    'Redemption Count': redemption_count,\n",
    "    'Fallout (Session → Retailer View)': fallout_session,\n",
    "    'Fallout (Retailer View → Unlock)': fallout_retailer_view,\n",
    "    'Fallout (Unlock → Redemption)': fallout_unlock,\n",
    "    'Fallout (Redemption → End)': fallout_redemption\n",
    "\n",
    "--------"
   ]
  },
  {
   "cell_type": "markdown",
   "id": "cf1939e1-2580-45ed-a51e-18d5001cacbb",
   "metadata": {},
   "source": [
    "### Memory Error Solution test"
   ]
  },
  {
   "cell_type": "code",
   "execution_count": 277,
   "id": "c04caf8e-4e94-46f5-8765-92acb14300c3",
   "metadata": {},
   "outputs": [
    {
     "data": {
      "text/plain": [
       "1849"
      ]
     },
     "execution_count": 277,
     "metadata": {},
     "output_type": "execute_result"
    }
   ],
   "source": [
    "# Free memory prior to running\n",
    "import gc\n",
    "\n",
    "del df_shoppers  # Delete large DataFrame if not needed anymore\n",
    "gc.collect()  # Force garbage collection"
   ]
  },
  {
   "cell_type": "code",
   "execution_count": 285,
   "id": "dd1165fb-dd25-4683-8dc8-48f1468aaab9",
   "metadata": {},
   "outputs": [],
   "source": [
    "# Check for duplicates, might be causing data to be large\n",
    "df_shoppers.drop_duplicates(subset=['customer_id', 'offer_id'], inplace = True)"
   ]
  },
  {
   "cell_type": "code",
   "execution_count": 281,
   "id": "a7f7d285-a529-4b59-ac30-c24b1bfc6280",
   "metadata": {},
   "outputs": [
    {
     "name": "stdout",
     "output_type": "stream",
     "text": [
      "dict_keys(['__name__', '__doc__', '__package__', '__loader__', '__spec__', '__builtin__', '__builtins__', '_ih', '_oh', '_dh', 'In', 'Out', 'get_ipython', 'exit', 'quit', 'open', '_', '__', '___', '__session__', '_i', '_ii', '_iii', '_i1', '_exit_code', '_i2', '_i3', 'json', 'getpass', 'hashlib', 'import_pandas_safely', '__pandas', 'is_data_frame', 'dataframe_columns', 'dtypes_str', 'dataframe_hash', 'get_dataframes', '_3', '_i4', 'gdown', 'file_ids', 'file_name', 'file_id', '_i5', '_5', '_i6', 'pd', 'df_engagements', 'df_offers', 'df_shopper_offers', '_i7', '_7', '_i8', '_i9', '_9', '_i10', '_i11', '_11', '_i12', '_i13', '_13', '_i14', '_i15', '_15', '_i16', '_i17', '_17', '_i18', '_i19', '_19', '_i20', '_i21', '_21', '_i22', '_22', '_i23', '_i24', '_24', '_i25', '_25', '_i26', '_i27', '_27', '_i28', '_28', '_i29', '_29', '_i30', '_30', '_i31', '_31', '_i32', '_32', '_i33', '_33', '_i34', '_34', '_i35', '_35', '_i36', '_36', '_i37', '_37', '_i38', '_38', '_i39', '_39', '_i40', '_40', '_i41', '_41', '_i42', '_42', '_i43', '_43', '_i44', '_44', '_i45', '_45', '_i46', '_46', '_i47', '_47', '_i48', '_48', '_i49', '_49', '_i50', '_50', '_i51', '_51', '_i52', '_52', '_i53', '_53', '_i54', '_54', '_i55', '_55', '_i56', '_56', '_i57', '_57', '_i58', 'sqlite3', '_i59', '_59', '_i60', 'conn', '_i61', '_61', '_i62', '_i63', '_63', '_i64', '_64', '_i65', '_65', '_i66', '_66', '_i67', '_i68', '_i69', '_69', '_i70', '_70', '_i71', '_71', '_i72', '_i73', '_73', '_i74', '_74', '_i75', '_75', '_i76', '_76', '_i77', '_i78', '_78', '_i79', 'query', '_i80', '_80', '_i81', '_i82', '_82', '_i83', 'top_offers_df', '_i84', '_84', '_i85', '_i86', '_86', '_i87', '_i88', '_88', '_i89', '_89', '_i90', '_i91', '_91', '_i92', '_i93', '_93', '_i94', 'unique_shoppers_df', '_i95', '_95', '_i96', 'event_type_df', '_i97', '_97', '_i98', '_i99', '_99', '_i100', '_i101', '_101', '_i102', '_i103', '_103', '_i104', '_i105', '_105', '_i106', '_i107', '_107', '_i108', '_i109', '_109', '_i110', '_110', '_i111', '_i112', '_112', '_i113', '_113', '_i114', 'df_columns', '_i115', '_115', '_i116', '_i117', '_117', '_i118', '_i119', '_119', '_i120', '_120', '_i121', '_121', '_i122', '_i123', '_123', '_i124', '_i125', '_125', '_i126', '_i127', '_127', '_i128', '_128', '_i129', '_129', '_i130', '_130', '_i131', '_131', '_i132', '_132', '_i133', '_133', '_i134', '_134', '_i135', '_135', '_i136', '_136', '_i137', '_137', '_i138', '_138', '_i139', '_139', '_i140', 'avg_reward_amount_df', '_i141', '_141', '_i142', 'offer_types', '_i143', '_143', '_i144', '_i145', '_145', '_i146', '_i147', '_147', '_i148', '_i149', '_149', '_i150', '_150', '_i151', '_151', '_i152', '_i153', '_153', '_i154', '_154', '_i155', '_155', '_i156', '_156', '_i157', '_157', '_i158', '_158', '_i159', '_159', '_i160', '_160', '_i161', '_161', '_i162', '_162', '_i163', '_163', '_i164', '_164', '_i165', '_i166', '_166', '_i167', '_i168', '_168', '_i169', '_i170', '_170', '_i171', 'monthly_engagements', '_171', '_i172', '_172', '_i173', '_173', '_i174', 'event_type_dist', '_174', '_i175', '_175', '_i176', '_176', '_i177', '_177', '_i178', '_178', '_i179', '_i180', '_180', '_i181', '_i182', '_182', '_i183', '_i184', '_184', '_i185', '_i186', '_186', '_i187', '_i188', '_188', '_i189', '_i190', '_190', '_i191', '_i192', '_192', '_i193', '_i194', '_194', '_i195', '_i196', '_196', '_i197', '_i198', '_198', '_i199', 'top_offers', '_i200', '_200', '_i201', '_i202', '_202', '_i203', '_i204', '_204', '_i205', 'merged_df', 'average_reward', '_i206', '_206', '_i207', '_i208', '_208', '_i209', '_209', '_i210', 'timedelta', '_i211', '_211', '_i212', '_i213', '_213', '_i214', '_i215', '_215', '_i216', 'filtered_df', 'engagement_counts', '_i217', '_217', '_i218', '_i219', '_219', '_i220', '_i221', '_221', '_i222', '_i223', '_223', '_i224', '_i225', '_225', '_i226', 'monthly_registration_counts', '_i227', '_227', '_i228', 'total_unique_shoppers', '_i229', '_229', '_i230', 'recent_receipt', 'recent_receipt_with_rewards', 'recent_receipt_result', '_i231', '_231', '_i232', '_232', '_i233', '_i234', '_234', '_i235', '_i236', '_236', '_i237', '_i238', '_238', '_i239', '_i240', '_240', '_i241', '_241', '_i242', 'offer_counts', 'shoppers_with_more_than_10_offers', '_i243', '_243', '_i244', '_i245', '_245', '_i246', '_i247', '_247', '_i248', '_i249', '_249', '_i250', 'merged_with_rewards', 'total_rewards', 'top_shoppers', '_250', '_i251', '_251', '_i252', '_252', '_i253', 'merged_shoppers_engagements', '_i254', '_254', '_i255', 'average_time_diff', '_255', '_i256', '_256', '_i257', '_257', '_i258', '_i259', '_259', '_i260', 'august_2018_shoppers', 'august_shoppers_engagements', 'session_count', '_i261', '_261', '_i262', '_i263', '_263', '_i264', '_264', '_i265', '_265', '_i266', '_266', '_i267', '_267', '_i268', '_268', '_i269', '_269', '_i270', '_270', '_i271', '_i272', '_272', '_i273', 'df_shoppers_filtered', '_i274', '_274', '_i275', '_i276', '_276', '_i277', 'gc', '_277', '_i278', '_278', '_i279', '_i280', '_280', '_i281'])\n"
     ]
    }
   ],
   "source": [
    "# Check variable existence\n",
    "print(locals().keys())"
   ]
  },
  {
   "cell_type": "markdown",
   "id": "d96e7935-ed74-469f-8674-84c56466b563",
   "metadata": {},
   "source": [
    "Reduce Dataset size before merge, instead of whole dataset.\n",
    "Reduce columns in df_shoppers before merging\n",
    "    df_shoppers_filtered = df_shoppers[['customer_id', 'offer_id']].copy()\n",
    "\n",
    "Only merge needed columsn\n",
    "    august_shoppers_retailers = pd.merge(\n",
    "    august_shoppers_engagements[['customer_id']],\n",
    "    df_shoppers_filtered,\n",
    "    on = 'customer_id',\n",
    "    how = 'left'\n",
    "    )"
   ]
  },
  {
   "cell_type": "code",
   "execution_count": 295,
   "id": "57398d02-5c93-4cc9-92b6-638f2319298c",
   "metadata": {},
   "outputs": [],
   "source": [
    "# Load Data with optimised memory usage\n",
    "#df_shoppers = pd.read_csv('shoppers.csv', dtype={'customer_id': 'int32', 'offer_id': 'int32'})"
   ]
  },
  {
   "cell_type": "code",
   "execution_count": 299,
   "id": "231526f4-0e53-4c12-840d-27a10b383ac0",
   "metadata": {},
   "outputs": [],
   "source": [
    "# Convert registration_date to string before filter\n",
    "#df_shopper_offers['registration_date'] = df_shopper_offers['registration_date'].astype(str)\n",
    "#august_2018_shoppers = df_shopper_offers[df_shopper_offers['registration_date'].str.startswith('2018-08')]"
   ]
  },
  {
   "cell_type": "code",
   "execution_count": 381,
   "id": "96d9fdda-577b-4422-838b-3c5642082d7e",
   "metadata": {},
   "outputs": [
    {
     "name": "stdout",
     "output_type": "stream",
     "text": [
      "Session Count: 2144\n",
      "Retailer View Count: 1963\n",
      "Unlock Count: 2071\n",
      "Redemption Count: 0\n",
      "Fallout (Session → Retailer View): 8.44%\n",
      "Fallout (Retailer View → Unlock): -5.50%\n",
      "Fallout (Unlock → Redemption): 100.00%\n"
     ]
    }
   ],
   "source": [
    "# Memory error fix\n",
    "# Step 1: Filter the customers who registered in August 2018\n",
    "august_customers = august_2018_shoppers[august_2018_shoppers['registration_date'].str.startswith('2018-08')]['customer_id']\n",
    "\n",
    "# Step 2: Calculate the counts directly for each stage of the funnel using conditions on the filtered customers\n",
    "\n",
    "# Session Count (unique sessions for registered customers)\n",
    "session_count = august_shoppers_engagements[august_shoppers_engagements['customer_id'].isin(august_customers)]['customer_id'].nunique()\n",
    "\n",
    "# Retailer View Count (users who viewed a retailer)\n",
    "retailer_view_count = august_shoppers_engagements[(august_shoppers_engagements['customer_id'].isin(august_customers)) & \n",
    "                                                 (august_shoppers_engagements['event_type'] == 'retailer_view')]['customer_id'].nunique()\n",
    "\n",
    "# Unlock Count (users who unlocked an offer)\n",
    "unlock_count = august_shoppers_unlocks[august_shoppers_unlocks['customer_id'].isin(august_customers)]['customer_id'].nunique()\n",
    "\n",
    "# Redemption Count (users who redeemed an offer)\n",
    "redemption_count = august_shoppers_redemptions[august_shoppers_redemptions['customer_id'].isin(august_customers)]['customer_id'].nunique()\n",
    "\n",
    "# Calculate the fallout percentages\n",
    "fallout_session_to_view = (session_count - retailer_view_count) / session_count * 100 if session_count > 0 else 0\n",
    "fallout_view_to_unlock = (retailer_view_count - unlock_count) / retailer_view_count * 100 if retailer_view_count > 0 else 0\n",
    "fallout_unlock_to_redemption = (unlock_count - redemption_count) / unlock_count * 100 if unlock_count > 0 else 0\n",
    "\n",
    "# Output the results\n",
    "print(f\"Session Count: {session_count}\")\n",
    "print(f\"Retailer View Count: {retailer_view_count}\")\n",
    "print(f\"Unlock Count: {unlock_count}\")\n",
    "print(f\"Redemption Count: {redemption_count}\")\n",
    "print(f\"Fallout (Session → Retailer View): {fallout_session_to_view:.2f}%\")\n",
    "print(f\"Fallout (Retailer View → Unlock): {fallout_view_to_unlock:.2f}%\")\n",
    "print(f\"Fallout (Unlock → Redemption): {fallout_unlock_to_redemption:.2f}%\")"
   ]
  },
  {
   "cell_type": "code",
   "execution_count": 383,
   "id": "e3a8045f-501b-4007-9e65-5b5048d34929",
   "metadata": {},
   "outputs": [],
   "source": [
    "#%whos #check variables loaded"
   ]
  },
  {
   "cell_type": "markdown",
   "id": "efc4d9d8-935f-4468-a171-580c94da02c3",
   "metadata": {},
   "source": [
    "#### Other Analyses"
   ]
  },
  {
   "cell_type": "code",
   "execution_count": 96,
   "id": "d46dcb8b-1d62-4def-b30a-c0df00999ebf",
   "metadata": {},
   "outputs": [
    {
     "name": "stdout",
     "output_type": "stream",
     "text": [
      "         event_type  event_count\n",
      "0     retailer_view      8618027\n",
      "1      offer_unlock      3970330\n",
      "2            search      3393118\n",
      "3     session_start      3007493\n",
      "4  ad_product_click        95825\n"
     ]
    }
   ],
   "source": [
    "# Most popular event type\n",
    "\n",
    "query = \"\"\"\n",
    "select event_type, count(*) as event_count\n",
    "from engagements\n",
    "group by event_type\n",
    "order by event_count desc;\n",
    "\"\"\"\n",
    "\n",
    "# Execute the SQL query and load results into a DataFrame\n",
    "event_type_df = pd.read_sql_query(query, conn)\n",
    "\n",
    "# Print results\n",
    "print(event_type_df)"
   ]
  },
  {
   "cell_type": "markdown",
   "id": "edfcbcb1-3393-41a6-9373-dd3d34132a8d",
   "metadata": {},
   "source": [
    "We count occurrences of each *event_type* in the Engagements table, identifying the most common shopper actions such as; sessions, offers unlocks."
   ]
  },
  {
   "cell_type": "code",
   "execution_count": 176,
   "id": "e40ea466-1173-494f-bf78-4c1f62458b76",
   "metadata": {},
   "outputs": [
    {
     "data": {
      "text/plain": [
       "<Axes: title={'center': 'Distribution of Engagement Events Types'}, xlabel='event_type'>"
      ]
     },
     "execution_count": 176,
     "metadata": {},
     "output_type": "execute_result"
    },
    {
     "data": {
      "image/png": "[encoded data removed]",
      "text/plain": [
       "<Figure size 640x480 with 1 Axes>"
      ]
     },
     "metadata": {},
     "output_type": "display_data"
    }
   ],
   "source": [
    "## Engagement type distribution of event types\n",
    "event_type_dist = df_engagements['event_type'].value_counts()\n",
    "event_type_dist.plot(kind = 'bar', title = \"Distribution of Engagement Events Types\")"
   ]
  },
  {
   "cell_type": "code",
   "execution_count": 152,
   "id": "67d28217-b94e-4a20-8834-c8027166233d",
   "metadata": {},
   "outputs": [
    {
     "name": "stdout",
     "output_type": "stream",
     "text": [
      "                offer_type  avg_reward_amount\n",
      "0  OfferReward::Engagement           0.226923\n",
      "1        OfferReward::Fact           1.355658\n",
      "2     OfferReward::Instant           2.057805\n",
      "3        OfferReward::Poll           1.015000\n",
      "4      OfferReward::Recipe           1.107841\n",
      "5     OfferReward::ShopNow           2.500000\n",
      "6       OfferReward::Video           0.732980\n",
      "7     OfferReward::VideoAd           0.107143\n"
     ]
    }
   ],
   "source": [
    "# Average reward amount per offer type using 'reward_amount' from Offers & Shopper Offers:\n",
    "\n",
    "query = \"\"\"\n",
    "SELECT offer_type, AVG(reward_amount) AS avg_reward_amount\n",
    "FROM offers\n",
    "GROUP BY offer_type;\n",
    "\"\"\"\n",
    "avg_reward_amount_df = pd.read_sql_query(query, conn)\n",
    "print(avg_reward_amount_df)"
   ]
  },
  {
   "cell_type": "code",
   "execution_count": 142,
   "id": "c094405c-c231-4c24-b50c-97885e9ffeb5",
   "metadata": {},
   "outputs": [
    {
     "name": "stdout",
     "output_type": "stream",
     "text": [
      "                offer_type\n",
      "0        OfferReward::Fact\n",
      "1     OfferReward::Instant\n",
      "2      OfferReward::Recipe\n",
      "3       OfferReward::Video\n",
      "4  OfferReward::Engagement\n",
      "5     OfferReward::ShopNow\n",
      "6        OfferReward::Poll\n",
      "7     OfferReward::VideoAd\n"
     ]
    }
   ],
   "source": [
    "offer_types = pd.read_sql_query(\"SELECT DISTINCT offer_type FROM offers;\", conn)\n",
    "print(offer_types)"
   ]
  },
  {
   "cell_type": "code",
   "execution_count": 148,
   "id": "285e3ef8-9acd-4dd2-840e-95032d19658e",
   "metadata": {},
   "outputs": [],
   "source": [
    "#pd.read_sql_query(\"SELECT name FROM sqlite_master WHERE type='table';\", conn)"
   ]
  },
  {
   "cell_type": "code",
   "execution_count": 130,
   "id": "cd3f9d53-ee93-4261-9f39-7916a2377776",
   "metadata": {},
   "outputs": [
    {
     "data": {
      "text/html": [
       "<div>\n",
       "<style scoped>\n",
       "    .dataframe tbody tr th:only-of-type {\n",
       "        vertical-align: middle;\n",
       "    }\n",
       "\n",
       "    .dataframe tbody tr th {\n",
       "        vertical-align: top;\n",
       "    }\n",
       "\n",
       "    .dataframe thead th {\n",
       "        text-align: right;\n",
       "    }\n",
       "</style>\n",
       "<table border=\"1\" class=\"dataframe\">\n",
       "  <thead>\n",
       "    <tr style=\"text-align: right;\">\n",
       "      <th></th>\n",
       "      <th>offer_id</th>\n",
       "      <th>reward_amount</th>\n",
       "      <th>offer_type</th>\n",
       "    </tr>\n",
       "  </thead>\n",
       "  <tbody>\n",
       "    <tr>\n",
       "      <th>0</th>\n",
       "      <td>1015709</td>\n",
       "      <td>1.0</td>\n",
       "      <td>OfferReward::Fact</td>\n",
       "    </tr>\n",
       "    <tr>\n",
       "      <th>1</th>\n",
       "      <td>1023161</td>\n",
       "      <td>2.0</td>\n",
       "      <td>OfferReward::Instant</td>\n",
       "    </tr>\n",
       "    <tr>\n",
       "      <th>2</th>\n",
       "      <td>1024683</td>\n",
       "      <td>2.0</td>\n",
       "      <td>OfferReward::Fact</td>\n",
       "    </tr>\n",
       "    <tr>\n",
       "      <th>3</th>\n",
       "      <td>1024711</td>\n",
       "      <td>2.0</td>\n",
       "      <td>OfferReward::Fact</td>\n",
       "    </tr>\n",
       "    <tr>\n",
       "      <th>4</th>\n",
       "      <td>1030046</td>\n",
       "      <td>1.0</td>\n",
       "      <td>OfferReward::Instant</td>\n",
       "    </tr>\n",
       "  </tbody>\n",
       "</table>\n",
       "</div>"
      ],
      "text/plain": [
       "   offer_id  reward_amount            offer_type\n",
       "0   1015709            1.0     OfferReward::Fact\n",
       "1   1023161            2.0  OfferReward::Instant\n",
       "2   1024683            2.0     OfferReward::Fact\n",
       "3   1024711            2.0     OfferReward::Fact\n",
       "4   1030046            1.0  OfferReward::Instant"
      ]
     },
     "execution_count": 130,
     "metadata": {},
     "output_type": "execute_result"
    }
   ],
   "source": [
    "#pd.read_sql_query(\"SELECT COUNT(*) FROM offers;\", conn)\n",
    "\n",
    "pd.read_sql_query(\"SELECT * FROM offers LIMIT 5;\", conn)\n"
   ]
  },
  {
   "cell_type": "code",
   "execution_count": 144,
   "id": "3a66bee3-3b1a-438e-84a4-2b7879e183a7",
   "metadata": {},
   "outputs": [],
   "source": [
    "#pd.read_sql_query(\"SELECT offer_type, COUNT(*) FROM offers GROUP BY offer_type;\", conn)"
   ]
  },
  {
   "cell_type": "code",
   "execution_count": 146,
   "id": "a007d387-018b-4d4e-ae71-b7258917ccfa",
   "metadata": {},
   "outputs": [],
   "source": [
    "#test avg reward_amount\n",
    "#pd.read_sql_query(\"SELECT AVG(reward_amount) FROM offers;\", conn)"
   ]
  },
  {
   "cell_type": "markdown",
   "id": "949ec900-0d79-42af-8863-5a206ad719e0",
   "metadata": {},
   "source": [
    "### Part 2: Strategic Planning & Analysis"
   ]
  },
  {
   "cell_type": "markdown",
   "id": "a8d32eae-5cfe-4b20-ab16-4d71a7f37eb0",
   "metadata": {},
   "source": [
    "1. Explore Shopper Engagement Patterns"
   ]
  },
  {
   "cell_type": "code",
   "execution_count": 216,
   "id": "f849b2d8-eff4-40c5-8b05-047336356b68",
   "metadata": {},
   "outputs": [
    {
     "name": "stdout",
     "output_type": "stream",
     "text": [
      "        customer_id  engagement_count\n",
      "0  1813806853824876                 4\n",
      "1  2728439439901781                 2\n",
      "2  3153068761323235                 4\n",
      "3  4497177129341226                 4\n",
      "4  5059646572489451                 4\n"
     ]
    }
   ],
   "source": [
    "import pandas as pd\n",
    "from datetime import timedelta\n",
    "\n",
    "# Convert 'event_at' and 'registration_date' to datetime (naive)\n",
    "df_engagements['event_at'] = pd.to_datetime(df_engagements['event_at']).dt.tz_localize(None)\n",
    "df_shopper_offers['registration_date'] = pd.to_datetime(df_shopper_offers['registration_date']).dt.tz_localize(None)\n",
    "\n",
    "# Merge the shopper_offers dataframe with the engagements dataframe based on customer_id\n",
    "merged_df = df_shopper_offers.merge(df_engagements, on='customer_id', how='left')\n",
    "\n",
    "# Calculate the 6-month date range\n",
    "merged_df['six_months_later'] = merged_df['registration_date'] + pd.DateOffset(months=6)\n",
    "\n",
    "# Filter events that are within the registration date and 6 months after it\n",
    "filtered_df = merged_df[(merged_df['event_at'] >= merged_df['registration_date']) & \n",
    "                        (merged_df['event_at'] <= merged_df['six_months_later'])]\n",
    "\n",
    "# Count the distinct event types for each customer\n",
    "engagement_counts = filtered_df.groupby('customer_id')['event_type'].nunique().reset_index()\n",
    "\n",
    "# Rename the column to engagement_count\n",
    "engagement_counts = engagement_counts.rename(columns={'event_type': 'engagement_count'})\n",
    "\n",
    "# Display the result\n",
    "print(engagement_counts.head())\n",
    "\n",
    "# Removing timezone information: The dt.tz_localize(None) method removes any timezone information, making the datetimes \"naive\" (without any timezone)."
   ]
  },
  {
   "cell_type": "code",
   "execution_count": 171,
   "id": "9b8e1690-eba1-4961-acf5-4f5fc4b299bf",
   "metadata": {},
   "outputs": [
    {
     "data": {
      "text/plain": [
       "<Axes: title={'center': 'Monthly Shopper Engagement Over Time'}, xlabel='year,month'>"
      ]
     },
     "execution_count": 171,
     "metadata": {},
     "output_type": "execute_result"
    },
    {
     "data": {
      "image/png": "[encoded data removed]",
      "text/plain": [
       "<Figure size 640x480 with 1 Axes>"
      ]
     },
     "metadata": {},
     "output_type": "display_data"
    }
   ],
   "source": [
    "## Shopper engagement over time\n",
    "\n",
    "# Convert event_at to datarime format\n",
    "df_engagements['event_at'] = pd.to_datetime(df_engagements['event_at'])\n",
    "\n",
    "# Extract month and year from event_at\n",
    "df_engagements['month'] = df_engagements['event_at'].dt.month\n",
    "df_engagements['year'] = df_engagements['event_at'].dt.year\n",
    "\n",
    "# Count engagements per month\n",
    "monthly_engagements = df_engagements.groupby(['year', 'month']).size()\n",
    "\n",
    "monthly_engagements.plot(kind = 'line', title = \"Monthly Shopper Engagement Over Time\")"
   ]
  },
  {
   "cell_type": "markdown",
   "id": "850d026b-4b8d-4f63-86ad-e92d5e2b5ffb",
   "metadata": {},
   "source": [
    "2. Offer Redemption Insights"
   ]
  },
  {
   "cell_type": "code",
   "execution_count": 201,
   "id": "505da5dc-b5d4-484b-b905-20285ee21297",
   "metadata": {},
   "outputs": [
    {
     "name": "stdout",
     "output_type": "stream",
     "text": [
      "   offer_id  redemption_count               offer_type\n",
      "0   1292853              3039  OfferReward::Engagement\n",
      "1   1199544              2084  OfferReward::Engagement\n",
      "2   1292928              1615     OfferReward::Instant\n",
      "3   1342636              1483     OfferReward::Instant\n",
      "4   1289460              1276     OfferReward::Instant\n",
      "5   1200514              1209     OfferReward::Instant\n",
      "6   1328187              1173     OfferReward::Instant\n",
      "7   1444454              1087  OfferReward::Engagement\n",
      "8   1396516              1056     OfferReward::Instant\n",
      "9   1407503              1041     OfferReward::Instant\n"
     ]
    }
   ],
   "source": [
    "## Top 10 redemptions count\n",
    "\n",
    "# Aggregate redemption counts by offer_id\n",
    "top_offers = df_shoppers.groupby('offer_id')['redemption_count'].sum().sort_values(ascending=False).head(10)\n",
    "\n",
    "# Convert top_offers to a DataFrame\n",
    "top_offers_df = top_offers.reset_index()\n",
    "\n",
    "# Merge with offers to get offer names and types\n",
    "top_offers_df = top_offers_df.merge(df_offers[['offer_id', 'offer_type']], on='offer_id')\n",
    "\n",
    "# Display the top 10 offers with their redemption counts and types\n",
    "print(top_offers_df)\n"
   ]
  },
  {
   "cell_type": "code",
   "execution_count": 386,
   "id": "570fb549-f2ea-45b3-9632-f796a6886527",
   "metadata": {},
   "outputs": [
    {
     "data": {
      "image/png": "[encoded data removed]",
      "text/plain": [
       "<Figure size 1000x600 with 1 Axes>"
      ]
     },
     "metadata": {},
     "output_type": "display_data"
    }
   ],
   "source": [
    "import matplotlib.pyplot as plt\n",
    "\n",
    "# Aggregate redemption counts by offer_id\n",
    "top_offers = df_shoppers.groupby('offer_id')['redemption_count'].sum().sort_values(ascending=False).head(10)\n",
    "\n",
    "# Convert top_offers to a DataFrame\n",
    "top_offers_df = top_offers.reset_index()\n",
    "\n",
    "# Merge with offers to get offer names and types\n",
    "top_offers_df = top_offers_df.merge(df_offers[['offer_id', 'offer_type']], on='offer_id')\n",
    "\n",
    "# Plotting the top 10 offers by redemption count\n",
    "plt.figure(figsize=(10, 6))\n",
    "plt.barh(top_offers_df['offer_type'] + \" (\" + top_offers_df['offer_id'].astype(str) + \")\", top_offers_df['redemption_count'], color='skyblue')\n",
    "plt.xlabel('Redemption Count')\n",
    "plt.ylabel('Offer ID and Type')\n",
    "plt.title('Top 10 Offers by Redemption Count')\n",
    "plt.gca().invert_yaxis()  # Reverse the order to have the highest at the top\n",
    "plt.tight_layout()\n",
    "\n",
    "# Display the plot\n",
    "plt.show()"
   ]
  },
  {
   "cell_type": "code",
   "execution_count": 191,
   "id": "38fd8585-048a-4ab5-9911-32904612da0c",
   "metadata": {},
   "outputs": [
    {
     "name": "stdout",
     "output_type": "stream",
     "text": [
      "Index(['customer_id', 'registration_date', 'registration_device'], dtype='object')\n",
      "           customer_id registration_date registration_device\n",
      "0  6489927405216326396        2018-01-01                 ios\n",
      "1  3161625024140501939        2018-01-01                 ios\n",
      "2   207638738633219587        2018-01-01                 ios\n",
      "3  3789491988850699117        2018-01-03                 ios\n",
      "4   896562973335837221        2018-01-03                 ios\n"
     ]
    }
   ],
   "source": [
    "print(df_shopper_offers.columns)\n",
    "print(df_shopper_offers.head())"
   ]
  },
  {
   "cell_type": "code",
   "execution_count": 205,
   "id": "5781dea4-ace6-4880-b0ea-8f356807dc97",
   "metadata": {},
   "outputs": [
    {
     "name": "stdout",
     "output_type": "stream",
     "text": [
      "Average reward per redemption: 1.590954670305075\n"
     ]
    }
   ],
   "source": [
    "## Average Reward per Redemption \n",
    "\n",
    "# Merge shoppers with offers to get reward amounts\n",
    "merged_df = df_shoppers.merge(df_offers[['offer_id', 'reward_amount']], on='offer_id')\n",
    "\n",
    "# Calculate the average reward per redemption\n",
    "average_reward = (merged_df['reward_amount'] * merged_df['redemption_count']).sum() / merged_df['redemption_count'].sum()\n",
    "print(f\"Average reward per redemption: {average_reward}\")"
   ]
  },
  {
   "cell_type": "code",
   "execution_count": 412,
   "id": "7b425b75-4250-4bd8-bf98-5aa3be1a3abe",
   "metadata": {},
   "outputs": [
    {
     "name": "stdout",
     "output_type": "stream",
     "text": [
      "   customer_id             date_verified  retailer_id  offer_id  \\\n",
      "0    307968269  2018-04-28T21:55:39.000Z         32.0   1278627   \n",
      "1   1854695034  2018-03-08T21:26:52.000Z          4.0   1224026   \n",
      "2   1194483220  2018-04-28T20:23:46.000Z          9.0   1263179   \n",
      "3   1194483220  2018-06-25T02:42:44.000Z       1408.0   1321491   \n",
      "4    269039503  2018-06-29T05:47:31.000Z         12.0   1298744   \n",
      "\n",
      "                      receipt_id  redemption_count  \n",
      "0                     1446779487                 1  \n",
      "1                     1411515095                 1  \n",
      "2                     1446708239                 1  \n",
      "3  200010916620679|1687660627894                 1  \n",
      "4                     1490601205                 1  \n"
     ]
    }
   ],
   "source": [
    "#df_shopper_offers = pd.read_csv('shopper_offers.csv')\n",
    "print(df_shoppers.head())"
   ]
  },
  {
   "cell_type": "code",
   "execution_count": 424,
   "id": "43866cac-d619-43df-8bbe-9eb22ece57cc",
   "metadata": {},
   "outputs": [
    {
     "name": "stdout",
     "output_type": "stream",
     "text": [
      "customer_id     0\n",
      "session_id     73\n",
      "event_type     73\n",
      "dtype: int64\n"
     ]
    }
   ],
   "source": [
    "print(august_shoppers_engagements.isnull().sum())"
   ]
  },
  {
   "cell_type": "code",
   "execution_count": null,
   "id": "30285a30-b76c-4ca7-adab-b3860216dfa1",
   "metadata": {},
   "outputs": [],
   "source": []
  }
 ],
 "metadata": {
  "kernelspec": {
   "display_name": "Python [conda env:New folder]",
   "language": "python",
   "name": "conda-env-New_folder-py"
  },
  "language_info": {
   "codemirror_mode": {
    "name": "ipython",
    "version": 3
   },
   "file_extension": ".py",
   "mimetype": "text/x-python",
   "name": "python",
   "nbconvert_exporter": "python",
   "pygments_lexer": "ipython3",
   "version": "3.12.7"
  }
 },
 "nbformat": 4,
 "nbformat_minor": 5
}
